{
  "nbformat": 4,
  "nbformat_minor": 0,
  "metadata": {
    "accelerator": "GPU",
    "colab": {
      "provenance": [],
      "machine_shape": "hm",
      "include_colab_link": true
    },
    "kernelspec": {
      "display_name": "Python 3",
      "name": "python3"
    },
    "language_info": {
      "name": "python"
    }
  },
  "cells": [
    {
      "cell_type": "markdown",
      "metadata": {
        "id": "view-in-github",
        "colab_type": "text"
      },
      "source": [
        "<a href=\"https://colab.research.google.com/github/Samayank/CV/blob/main/Data_Analysis.ipynb\" target=\"_parent\"><img src=\"https://colab.research.google.com/assets/colab-badge.svg\" alt=\"Open In Colab\"/></a>"
      ]
    },
    {
      "cell_type": "code",
      "metadata": {
        "id": "dL8xnuhPS6u1",
        "outputId": "a855ed03-dbce-43e9-b5ef-6757a2f6266f",
        "colab": {
          "base_uri": "https://localhost:8080/",
          "height": 397
        }
      },
      "source": [
        "# -*- coding: utf-8 -*-\n",
        "import seaborn as sns; sns.set(color_codes=True)  # visualization tool\n",
        "import pandas as pd\n",
        "import numpy as np\n",
        "import matplotlib.pyplot as plt\n",
        "import os\n",
        "\n",
        "import statistics\n",
        "import collections\n",
        "from pydrive.auth import GoogleAuth\n",
        "from pydrive.drive import GoogleDrive\n",
        "from google.colab import auth\n",
        "from oauth2client.client import GoogleCredentials\n",
        "from datetime import datetime\n",
        "from datetime import date\n",
        "from sklearn.model_selection import train_test_split\n",
        "from sklearn.naive_bayes import (\n",
        "                    MultinomialNB,\n",
        "                    GaussianNB,\n",
        "                    BernoulliNB\n",
        "                    )\n",
        "from sklearn.ensemble import RandomForestClassifier, AdaBoostClassifier\n",
        "from sklearn.tree import DecisionTreeClassifier\n",
        "from sklearn.neighbors import KNeighborsClassifier\n",
        "from sklearn.metrics import confusion_matrix\n",
        "from sklearn.svm import (\n",
        "                    SVC,\n",
        "                    NuSVC,\n",
        "                    LinearSVC\n",
        "                    )\n",
        "from sklearn.metrics import confusion_matrix\n",
        "from sklearn.preprocessing  import StandardScaler\n",
        "from sklearn.decomposition import PCA\n",
        "from sklearn import tree\n",
        "from sklearn.linear_model import LogisticRegression\n",
        "from sklearn.metrics import classification_report,confusion_matrix\n",
        "\n",
        "from IPython.display import display\n",
        "from xgboost import XGBClassifier\n",
        "from sklearn.ensemble import AdaBoostClassifier\n",
        "from sklearn.svm import SVC\n",
        "\n",
        "import keras\n",
        "from keras.models import Sequential , Model\n",
        "from keras.layers import Dense,Conv2D,MaxPool2D,Flatten,Dropout,MaxPooling2D,Input,Conv2DTranspose,Concatenate,BatchNormalization,UpSampling2D,AveragePooling2D,GlobalAveragePooling2D,Activation\n",
        "from keras.preprocessing.image import ImageDataGenerator\n",
        "from keras.optimizers import Adam , SGD\n",
        "from keras.layers.merge import concatenate\n",
        "from keras.layers.advanced_activations import LeakyReLU\n",
        "from keras.callbacks import ModelCheckpoint, ReduceLROnPlateau, EarlyStopping\n",
        "from keras import backend as K\n",
        "from keras.utils.np_utils import to_categorical # convert to one-hot-encoding\n",
        "\n",
        "#from keras.utils import plot_model\n",
        "\n",
        "from sklearn.metrics import classification_report,confusion_matrix\n",
        "from PIL import Image\n",
        "import tensorflow as tf\n",
        "import glob\n",
        "import random\n",
        "import cv2\n",
        "from random import shuffle\n",
        "import itertools\n"
      ],
      "execution_count": 1,
      "outputs": [
        {
          "output_type": "error",
          "ename": "ModuleNotFoundError",
          "evalue": "No module named 'pydrive'",
          "traceback": [
            "\u001b[0;31m---------------------------------------------------------------------------\u001b[0m",
            "\u001b[0;31mModuleNotFoundError\u001b[0m                       Traceback (most recent call last)",
            "\u001b[0;32m/tmp/ipython-input-2641594368.py\u001b[0m in \u001b[0;36m<cell line: 0>\u001b[0;34m()\u001b[0m\n\u001b[1;32m      8\u001b[0m \u001b[0;32mimport\u001b[0m \u001b[0mstatistics\u001b[0m\u001b[0;34m\u001b[0m\u001b[0;34m\u001b[0m\u001b[0m\n\u001b[1;32m      9\u001b[0m \u001b[0;32mimport\u001b[0m \u001b[0mcollections\u001b[0m\u001b[0;34m\u001b[0m\u001b[0;34m\u001b[0m\u001b[0m\n\u001b[0;32m---> 10\u001b[0;31m \u001b[0;32mfrom\u001b[0m \u001b[0mpydrive\u001b[0m\u001b[0;34m.\u001b[0m\u001b[0mauth\u001b[0m \u001b[0;32mimport\u001b[0m \u001b[0mGoogleAuth\u001b[0m\u001b[0;34m\u001b[0m\u001b[0;34m\u001b[0m\u001b[0m\n\u001b[0m\u001b[1;32m     11\u001b[0m \u001b[0;32mfrom\u001b[0m \u001b[0mpydrive\u001b[0m\u001b[0;34m.\u001b[0m\u001b[0mdrive\u001b[0m \u001b[0;32mimport\u001b[0m \u001b[0mGoogleDrive\u001b[0m\u001b[0;34m\u001b[0m\u001b[0;34m\u001b[0m\u001b[0m\n\u001b[1;32m     12\u001b[0m \u001b[0;32mfrom\u001b[0m \u001b[0mgoogle\u001b[0m\u001b[0;34m.\u001b[0m\u001b[0mcolab\u001b[0m \u001b[0;32mimport\u001b[0m \u001b[0mauth\u001b[0m\u001b[0;34m\u001b[0m\u001b[0;34m\u001b[0m\u001b[0m\n",
            "\u001b[0;31mModuleNotFoundError\u001b[0m: No module named 'pydrive'",
            "",
            "\u001b[0;31m---------------------------------------------------------------------------\u001b[0;32m\nNOTE: If your import is failing due to a missing package, you can\nmanually install dependencies using either !pip or !apt.\n\nTo view examples of installing some common dependencies, click the\n\"Open Examples\" button below.\n\u001b[0;31m---------------------------------------------------------------------------\u001b[0m\n"
          ],
          "errorDetails": {
            "actions": [
              {
                "action": "open_url",
                "actionText": "Open Examples",
                "url": "/notebooks/snippets/importing_libraries.ipynb"
              }
            ]
          }
        }
      ]
    },
    {
      "cell_type": "markdown",
      "metadata": {
        "id": "0E1nU36-gixc"
      },
      "source": [
        "# Read Data"
      ]
    },
    {
      "cell_type": "code",
      "metadata": {
        "id": "TTr3jXIWtqWw"
      },
      "source": [
        "#!unzip sample_data/images_data.zip -d sample_data/"
      ],
      "execution_count": null,
      "outputs": []
    },
    {
      "cell_type": "code",
      "metadata": {
        "id": "jZVCd9viS73P"
      },
      "source": [
        "auth.authenticate_user()\n",
        "gauth = GoogleAuth()\n",
        "gauth.credentials = GoogleCredentials.get_application_default()\n",
        "drive = GoogleDrive(gauth)"
      ],
      "execution_count": null,
      "outputs": []
    },
    {
      "cell_type": "code",
      "metadata": {
        "id": "W0fk-OdMUtHi"
      },
      "source": [
        "patient_info = drive.CreateFile({'id':\"1dN1peOSeugjLLzzazh4yGoy_g1LBlzp7\"})\n",
        "patient_info.GetContentFile(\"patient_info.csv\")\n",
        "patient_info = pd.read_csv(\"patient_info.csv\")"
      ],
      "execution_count": null,
      "outputs": []
    },
    {
      "cell_type": "markdown",
      "metadata": {
        "id": "cdSMX17NZqZI"
      },
      "source": [
        "# Exploratory Data Analysis"
      ]
    },
    {
      "cell_type": "code",
      "metadata": {
        "colab": {
          "base_uri": "https://localhost:8080/"
        },
        "id": "KeznZv7WWZT5",
        "outputId": "d076f094-e023-4ee1-a2f2-ac8850820424"
      },
      "source": [
        "patient_info.info()"
      ],
      "execution_count": null,
      "outputs": [
        {
          "output_type": "stream",
          "text": [
            "<class 'pandas.core.frame.DataFrame'>\n",
            "RangeIndex: 120 entries, 0 to 119\n",
            "Data columns (total 20 columns):\n",
            " #   Column                           Non-Null Count  Dtype \n",
            "---  ------                           --------------  ----- \n",
            " 0   Patient_ID                       120 non-null    object\n",
            " 1   Patient_Num                      120 non-null    int64 \n",
            " 2   Age                              120 non-null    int64 \n",
            " 3   Gender                           120 non-null    object\n",
            " 4   Test                             120 non-null    object\n",
            " 5   Date                             120 non-null    int64 \n",
            " 6   Taking_Contrast                  120 non-null    object\n",
            " 7   Clinical_data                    120 non-null    object\n",
            " 8   Symptoms                         120 non-null    object\n",
            " 9   Diagnosing_test                  120 non-null    object\n",
            " 10  Diagnosing_Right_Kidney          120 non-null    object\n",
            " 11  Injure_range_Right_K_in_Details  120 non-null    object\n",
            " 12  Segmentation_Right               120 non-null    object\n",
            " 13  Diagnosing_Left_Kidney           120 non-null    object\n",
            " 14  Injure_range_Left_K_in_Details   120 non-null    object\n",
            " 15  Segmentation_Left                120 non-null    object\n",
            " 16  Stage                            120 non-null    object\n",
            " 17  Situation                        120 non-null    object\n",
            " 18  Tumor_Type                       120 non-null    object\n",
            " 19  Tumor_Class                      120 non-null    object\n",
            "dtypes: int64(3), object(17)\n",
            "memory usage: 18.9+ KB\n"
          ],
          "name": "stdout"
        }
      ]
    },
    {
      "cell_type": "code",
      "metadata": {
        "colab": {
          "base_uri": "https://localhost:8080/",
          "height": 383
        },
        "id": "0x_wQFZZWfAw",
        "outputId": "62272da9-6845-48dc-c25e-f87318723d16"
      },
      "source": [
        "patient_info.head()"
      ],
      "execution_count": null,
      "outputs": [
        {
          "output_type": "execute_result",
          "data": {
            "text/html": [
              "<div>\n",
              "<style scoped>\n",
              "    .dataframe tbody tr th:only-of-type {\n",
              "        vertical-align: middle;\n",
              "    }\n",
              "\n",
              "    .dataframe tbody tr th {\n",
              "        vertical-align: top;\n",
              "    }\n",
              "\n",
              "    .dataframe thead th {\n",
              "        text-align: right;\n",
              "    }\n",
              "</style>\n",
              "<table border=\"1\" class=\"dataframe\">\n",
              "  <thead>\n",
              "    <tr style=\"text-align: right;\">\n",
              "      <th></th>\n",
              "      <th>Patient_ID</th>\n",
              "      <th>Patient_Num</th>\n",
              "      <th>Age</th>\n",
              "      <th>Gender</th>\n",
              "      <th>Test</th>\n",
              "      <th>Date</th>\n",
              "      <th>Taking_Contrast</th>\n",
              "      <th>Clinical_data</th>\n",
              "      <th>Symptoms</th>\n",
              "      <th>Diagnosing_test</th>\n",
              "      <th>Diagnosing_Right_Kidney</th>\n",
              "      <th>Injure_range_Right_K_in_Details</th>\n",
              "      <th>Segmentation_Right</th>\n",
              "      <th>Diagnosing_Left_Kidney</th>\n",
              "      <th>Injure_range_Left_K_in_Details</th>\n",
              "      <th>Segmentation_Left</th>\n",
              "      <th>Stage</th>\n",
              "      <th>Situation</th>\n",
              "      <th>Tumor_Type</th>\n",
              "      <th>Tumor_Class</th>\n",
              "    </tr>\n",
              "  </thead>\n",
              "  <tbody>\n",
              "    <tr>\n",
              "      <th>0</th>\n",
              "      <td>KA00001301</td>\n",
              "      <td>1</td>\n",
              "      <td>33</td>\n",
              "      <td>Male</td>\n",
              "      <td>CT ABDOMEN PELVIS</td>\n",
              "      <td>2021</td>\n",
              "      <td>Yes</td>\n",
              "      <td>Not provided</td>\n",
              "      <td>Flank pain</td>\n",
              "      <td>Soft tissue mass lesion seen in the right adre...</td>\n",
              "      <td>Tissue adrenal</td>\n",
              "      <td>Tissue 2.3 x 1.7 cm adrenal</td>\n",
              "      <td>Undefined</td>\n",
              "      <td>Unremarkable</td>\n",
              "      <td>Unremarkable</td>\n",
              "      <td>Undefined</td>\n",
              "      <td>I</td>\n",
              "      <td>Tumor</td>\n",
              "      <td>Benign</td>\n",
              "      <td>Adenoma</td>\n",
              "    </tr>\n",
              "    <tr>\n",
              "      <th>1</th>\n",
              "      <td>KA00017864</td>\n",
              "      <td>2</td>\n",
              "      <td>56</td>\n",
              "      <td>Male</td>\n",
              "      <td>CT ABDOMEN PELVIS</td>\n",
              "      <td>2020</td>\n",
              "      <td>No</td>\n",
              "      <td>Not provided</td>\n",
              "      <td>Flank pain</td>\n",
              "      <td>Mild bilateral hydronephrosis, kidney stone, l...</td>\n",
              "      <td>Tissue adrenal</td>\n",
              "      <td>Hyperdense lesion 1.5 cm adrenal</td>\n",
              "      <td>Lower pole, Midportion</td>\n",
              "      <td>Hydronephrosis</td>\n",
              "      <td>Hydronephrosis 1.6 cm, stone 1.3 cm</td>\n",
              "      <td>Lower calyceal</td>\n",
              "      <td>I</td>\n",
              "      <td>Tumor</td>\n",
              "      <td>Benign</td>\n",
              "      <td>Adenoma</td>\n",
              "    </tr>\n",
              "    <tr>\n",
              "      <th>2</th>\n",
              "      <td>KA00015810</td>\n",
              "      <td>3</td>\n",
              "      <td>50</td>\n",
              "      <td>Male</td>\n",
              "      <td>CT ABDOMEN PELVIS</td>\n",
              "      <td>2020</td>\n",
              "      <td>No</td>\n",
              "      <td>Kidney cyst and stone</td>\n",
              "      <td>Not provided</td>\n",
              "      <td>Adenpma adrenal gland</td>\n",
              "      <td>Tissue adrenal</td>\n",
              "      <td>Adrenal gland , hydronephrosis 2.2cm</td>\n",
              "      <td>Lower calyceal</td>\n",
              "      <td>Cyst, stone</td>\n",
              "      <td>Cyst 3.3 x 3.8cm, stone</td>\n",
              "      <td>Lower calyceal</td>\n",
              "      <td>I</td>\n",
              "      <td>Tumor</td>\n",
              "      <td>Benign</td>\n",
              "      <td>Adenoma</td>\n",
              "    </tr>\n",
              "    <tr>\n",
              "      <th>3</th>\n",
              "      <td>KA00017037</td>\n",
              "      <td>4</td>\n",
              "      <td>53</td>\n",
              "      <td>Male</td>\n",
              "      <td>CT ABDOMEN PELVIS</td>\n",
              "      <td>2021</td>\n",
              "      <td>Yes</td>\n",
              "      <td>Ewing sarcoma</td>\n",
              "      <td>Not provided</td>\n",
              "      <td>Stable bilateral adrenal lesions</td>\n",
              "      <td>Tissue adrenal, hydronephrosis</td>\n",
              "      <td>Adrenal gland 2 x 1.7 cm</td>\n",
              "      <td>Upper pole</td>\n",
              "      <td>Tissue adrenal</td>\n",
              "      <td>Adrenal gland 1.6 x 1 cm, cyst 1.3x 1.5 cm</td>\n",
              "      <td>Upper pole</td>\n",
              "      <td>I</td>\n",
              "      <td>Tumor</td>\n",
              "      <td>Benign</td>\n",
              "      <td>Adenoma</td>\n",
              "    </tr>\n",
              "    <tr>\n",
              "      <th>4</th>\n",
              "      <td>KA00103871</td>\n",
              "      <td>5</td>\n",
              "      <td>57</td>\n",
              "      <td>Male</td>\n",
              "      <td>CT ABDOMEN PELVIS</td>\n",
              "      <td>2020</td>\n",
              "      <td>No</td>\n",
              "      <td>Not provided</td>\n",
              "      <td>Flank pain</td>\n",
              "      <td>Few nonobstructive stones seen in both kidneys...</td>\n",
              "      <td>Stone, cyst</td>\n",
              "      <td>Stone 6 mm, cyst, renal scars</td>\n",
              "      <td>Upper calyceal</td>\n",
              "      <td>Tissue adrenal, stone</td>\n",
              "      <td>Stone, cyst 2.1 x 2.2 cm, Adrenal_g 1.4 x 1.6 cm</td>\n",
              "      <td>Midportion, Upper pole</td>\n",
              "      <td>I</td>\n",
              "      <td>Tumor</td>\n",
              "      <td>Benign</td>\n",
              "      <td>Adenoma</td>\n",
              "    </tr>\n",
              "  </tbody>\n",
              "</table>\n",
              "</div>"
            ],
            "text/plain": [
              "   Patient_ID  Patient_Num  Age Gender  ... Stage  Situation Tumor_Type Tumor_Class\n",
              "0  KA00001301            1   33   Male  ...     I      Tumor     Benign     Adenoma\n",
              "1  KA00017864            2   56   Male  ...     I      Tumor     Benign     Adenoma\n",
              "2  KA00015810            3   50   Male  ...     I      Tumor     Benign     Adenoma\n",
              "3  KA00017037            4   53   Male  ...     I      Tumor     Benign     Adenoma\n",
              "4  KA00103871            5   57   Male  ...     I      Tumor     Benign     Adenoma\n",
              "\n",
              "[5 rows x 20 columns]"
            ]
          },
          "metadata": {
            "tags": []
          },
          "execution_count": 6
        }
      ]
    },
    {
      "cell_type": "code",
      "metadata": {
        "colab": {
          "base_uri": "https://localhost:8080/",
          "height": 400
        },
        "id": "HNipS2OrlaD2",
        "outputId": "3c374091-1c5f-4b85-a2b9-dc8184a28269"
      },
      "source": [
        "patient_info.sample(5)"
      ],
      "execution_count": null,
      "outputs": [
        {
          "output_type": "execute_result",
          "data": {
            "text/html": [
              "<div>\n",
              "<style scoped>\n",
              "    .dataframe tbody tr th:only-of-type {\n",
              "        vertical-align: middle;\n",
              "    }\n",
              "\n",
              "    .dataframe tbody tr th {\n",
              "        vertical-align: top;\n",
              "    }\n",
              "\n",
              "    .dataframe thead th {\n",
              "        text-align: right;\n",
              "    }\n",
              "</style>\n",
              "<table border=\"1\" class=\"dataframe\">\n",
              "  <thead>\n",
              "    <tr style=\"text-align: right;\">\n",
              "      <th></th>\n",
              "      <th>Patient_ID</th>\n",
              "      <th>Patient_Num</th>\n",
              "      <th>Age</th>\n",
              "      <th>Gender</th>\n",
              "      <th>Test</th>\n",
              "      <th>Date</th>\n",
              "      <th>Taking_Contrast</th>\n",
              "      <th>Clinical_data</th>\n",
              "      <th>Symptoms</th>\n",
              "      <th>Diagnosing_test</th>\n",
              "      <th>Diagnosing_Right_Kidney</th>\n",
              "      <th>Injure_range_Right_K_in_Details</th>\n",
              "      <th>Segmentation_Right</th>\n",
              "      <th>Diagnosing_Left_Kidney</th>\n",
              "      <th>Injure_range_Left_K_in_Details</th>\n",
              "      <th>Segmentation_Left</th>\n",
              "      <th>Stage</th>\n",
              "      <th>Situation</th>\n",
              "      <th>Tumor_Type</th>\n",
              "      <th>Tumor_Class</th>\n",
              "    </tr>\n",
              "  </thead>\n",
              "  <tbody>\n",
              "    <tr>\n",
              "      <th>40</th>\n",
              "      <td>KA00120802</td>\n",
              "      <td>41</td>\n",
              "      <td>78</td>\n",
              "      <td>Male</td>\n",
              "      <td>CT ABDOMEN PELVIS</td>\n",
              "      <td>2021</td>\n",
              "      <td>Yes</td>\n",
              "      <td>Bulky prostate, Closed loop obstruction</td>\n",
              "      <td>Abdomen pain, Vomiting</td>\n",
              "      <td>large mass in left kidney extends beyond the p...</td>\n",
              "      <td>Healthy</td>\n",
              "      <td>Healthy</td>\n",
              "      <td>Undefined</td>\n",
              "      <td>Lesion</td>\n",
              "      <td>Lesion 8.0 x 6.0 x 9.0 cm</td>\n",
              "      <td>Renal pelvis</td>\n",
              "      <td>I</td>\n",
              "      <td>Tumor</td>\n",
              "      <td>Malignant</td>\n",
              "      <td>RCC</td>\n",
              "    </tr>\n",
              "    <tr>\n",
              "      <th>25</th>\n",
              "      <td>KA00228011</td>\n",
              "      <td>26</td>\n",
              "      <td>51</td>\n",
              "      <td>Female</td>\n",
              "      <td>CT ABDOMEN PELVIS</td>\n",
              "      <td>2020</td>\n",
              "      <td>Yes</td>\n",
              "      <td>Not provided</td>\n",
              "      <td>Abdomen pain</td>\n",
              "      <td>Lesion liver 1 x 1 cm, lesion adrenal left, Ut...</td>\n",
              "      <td>Healthy</td>\n",
              "      <td>Healthy</td>\n",
              "      <td>Undefined</td>\n",
              "      <td>Tissue adrenal</td>\n",
              "      <td>Lesion adrenal 0.7 cm</td>\n",
              "      <td>Upper portion</td>\n",
              "      <td>I</td>\n",
              "      <td>Tumor</td>\n",
              "      <td>Benign</td>\n",
              "      <td>Adenoma</td>\n",
              "    </tr>\n",
              "    <tr>\n",
              "      <th>69</th>\n",
              "      <td>KA00196059</td>\n",
              "      <td>70</td>\n",
              "      <td>61</td>\n",
              "      <td>Female</td>\n",
              "      <td>CT ABDOMEN PELVIS</td>\n",
              "      <td>2020</td>\n",
              "      <td>Yes</td>\n",
              "      <td>Not provided</td>\n",
              "      <td>Abdomen pain</td>\n",
              "      <td>Fatty liver 19 cm,</td>\n",
              "      <td>Cyst</td>\n",
              "      <td>Cyst</td>\n",
              "      <td>Upper pole</td>\n",
              "      <td>Cyst</td>\n",
              "      <td>Cyst</td>\n",
              "      <td>Upper pole</td>\n",
              "      <td>Null</td>\n",
              "      <td>Normal case with cyst</td>\n",
              "      <td>Null</td>\n",
              "      <td>Null</td>\n",
              "    </tr>\n",
              "    <tr>\n",
              "      <th>80</th>\n",
              "      <td>KA00118615</td>\n",
              "      <td>81</td>\n",
              "      <td>62</td>\n",
              "      <td>Female</td>\n",
              "      <td>CT ABDOMEN PELVIS</td>\n",
              "      <td>2020</td>\n",
              "      <td>No</td>\n",
              "      <td>Not provided</td>\n",
              "      <td>Flank pain, Acute obstructive uropathy</td>\n",
              "      <td>Dystrophic calcifications in uterus, stone in ...</td>\n",
              "      <td>Cyst, stone</td>\n",
              "      <td>Fat, stone 2 cm, cyct 1.8 x 2.2 cm</td>\n",
              "      <td>Renal pelvis, Upper pole</td>\n",
              "      <td>Fat</td>\n",
              "      <td>Fat</td>\n",
              "      <td>Undefined</td>\n",
              "      <td>Null</td>\n",
              "      <td>Normal case with cyst</td>\n",
              "      <td>Null</td>\n",
              "      <td>Null</td>\n",
              "    </tr>\n",
              "    <tr>\n",
              "      <th>102</th>\n",
              "      <td>KA00128072</td>\n",
              "      <td>103</td>\n",
              "      <td>54</td>\n",
              "      <td>Female</td>\n",
              "      <td>CT ABDOMEN PELVIS</td>\n",
              "      <td>2020</td>\n",
              "      <td>No</td>\n",
              "      <td>Diabetes, Hypertension</td>\n",
              "      <td>Hematuria, Flank pain</td>\n",
              "      <td>2 mm stone is in right VUJ</td>\n",
              "      <td>Hydronephrosis</td>\n",
              "      <td>Hydronephrosis 1.2 cm</td>\n",
              "      <td>Renal pelvis</td>\n",
              "      <td>Healthy</td>\n",
              "      <td>Healthy</td>\n",
              "      <td>Undefined</td>\n",
              "      <td>Null</td>\n",
              "      <td>Normal case</td>\n",
              "      <td>Null</td>\n",
              "      <td>Null</td>\n",
              "    </tr>\n",
              "  </tbody>\n",
              "</table>\n",
              "</div>"
            ],
            "text/plain": [
              "     Patient_ID  Patient_Num  Age  ...              Situation Tumor_Type  Tumor_Class\n",
              "40   KA00120802           41   78  ...                  Tumor  Malignant          RCC\n",
              "25   KA00228011           26   51  ...                  Tumor     Benign      Adenoma\n",
              "69   KA00196059           70   61  ...  Normal case with cyst       Null         Null\n",
              "80   KA00118615           81   62  ...  Normal case with cyst       Null         Null\n",
              "102  KA00128072          103   54  ...            Normal case       Null         Null\n",
              "\n",
              "[5 rows x 20 columns]"
            ]
          },
          "metadata": {
            "tags": []
          },
          "execution_count": 7
        }
      ]
    },
    {
      "cell_type": "code",
      "metadata": {
        "colab": {
          "base_uri": "https://localhost:8080/"
        },
        "id": "MP4RfcIL9kK8",
        "outputId": "b2ba0000-15b6-40ce-c891-51cffb8b2289"
      },
      "source": [
        "patient_info['Tumor_Class'].value_counts()"
      ],
      "execution_count": null,
      "outputs": [
        {
          "output_type": "execute_result",
          "data": {
            "text/plain": [
              "Null                           60\n",
              "Adenoma                        28\n",
              "Secondary                      11\n",
              "RCC                            10\n",
              "Angiomyolipoma                  6\n",
              "Angiomyolipoma                  2\n",
              "Lipomas                         1\n",
              "RCC                             1\n",
              "Angiomyolipoma and Adenomas     1\n",
              "Name: Tumor_Class, dtype: int64"
            ]
          },
          "metadata": {
            "tags": []
          },
          "execution_count": 8
        }
      ]
    },
    {
      "cell_type": "code",
      "metadata": {
        "id": "mt8OVNZ3cSzl"
      },
      "source": [
        "patient_info[\"Tumor_label\"]= patient_info[\"Tumor_Type\"]\n",
        "cleanup_nums = {\n",
        "    \"Tumor_Class\":{'RCC ':'RCC' , 'Angiomyolipoma ':'Angiomyolipoma' , \"Null\":\"Uninfected\" ,'Angiomyolipoma and Adenomas':'Angiomyolipoma' },\n",
        "    \"Tumor_Type\":{\"Null\":\"Uninfected\"},\n",
        "    \"Tumor_label\":{'Null':0  , \"Benign\":1 , 'Malignant':1 },\n",
        "    \"Situation\" : {\"Normal case\" : \"Normal case 'Healthy'\"}\n",
        "}\n",
        "patient_info = patient_info.replace(cleanup_nums)\n",
        "\n",
        "del cleanup_nums"
      ],
      "execution_count": null,
      "outputs": []
    },
    {
      "cell_type": "code",
      "metadata": {
        "colab": {
          "base_uri": "https://localhost:8080/"
        },
        "id": "YBK5m6ceTIN6",
        "outputId": "f928d15d-9c85-46b9-9aba-b5cd42c85e2e"
      },
      "source": [
        "patient_info['Situation'].value_counts()"
      ],
      "execution_count": null,
      "outputs": [
        {
          "output_type": "execute_result",
          "data": {
            "text/plain": [
              "Tumor                    60\n",
              "Normal case 'Healthy'    32\n",
              "Normal case with cyst    28\n",
              "Name: Situation, dtype: int64"
            ]
          },
          "metadata": {
            "tags": []
          },
          "execution_count": 10
        }
      ]
    },
    {
      "cell_type": "code",
      "metadata": {
        "colab": {
          "base_uri": "https://localhost:8080/"
        },
        "id": "xYP5nhIIT-Eg",
        "outputId": "b2e4cbc4-aa78-4b25-ee14-aa8c56401ab6"
      },
      "source": [
        "patient_info[\"Tumor_label\"].value_counts()"
      ],
      "execution_count": null,
      "outputs": [
        {
          "output_type": "execute_result",
          "data": {
            "text/plain": [
              "1    60\n",
              "0    60\n",
              "Name: Tumor_label, dtype: int64"
            ]
          },
          "metadata": {
            "tags": []
          },
          "execution_count": 11
        }
      ]
    },
    {
      "cell_type": "code",
      "metadata": {
        "id": "B_1PfLQeiqVc"
      },
      "source": [
        "bins = [30, 40,50,60,70,np.inf]\n",
        "names = ['30-40', '40-50',\"50-60\",'60-70','80+']\n",
        "patient_info['age_range'] = pd.cut(patient_info['Age'], bins, labels=names)\n"
      ],
      "execution_count": null,
      "outputs": []
    },
    {
      "cell_type": "code",
      "metadata": {
        "id": "Eo7wJ3rdmKmM"
      },
      "source": [
        "del patient_info['Test']"
      ],
      "execution_count": null,
      "outputs": []
    },
    {
      "cell_type": "code",
      "metadata": {
        "colab": {
          "base_uri": "https://localhost:8080/",
          "height": 461
        },
        "id": "dGpqkEdAWjMW",
        "outputId": "8fba3291-c4b7-4cd2-f273-32b1a1adc9f9"
      },
      "source": [
        "gender_flg = patient_info['Gender'].value_counts()\n",
        "display(gender_flg)\n",
        "plt.figure(figsize = (9 , 6))\n",
        "plt.bar(gender_flg.index , gender_flg , color=['gold', 'yellowgreen', 'lightcoral','#1f77b4', '#d62728', 'lightcoral','#7f7f7f'])\n",
        "plt.xlabel('Gender')\n",
        "plt.ylabel('Frequncy')\n",
        "plt.title('Patient Gender')\n",
        "plt.show()\n",
        "del gender_flg"
      ],
      "execution_count": null,
      "outputs": [
        {
          "output_type": "display_data",
          "data": {
            "text/plain": [
              "Male      65\n",
              "Female    55\n",
              "Name: Gender, dtype: int64"
            ]
          },
          "metadata": {
            "tags": []
          }
        },
        {
          "output_type": "display_data",
          "data": {
            "image/png": "[encoded data removed]",
            "text/plain": [
              "<Figure size 648x432 with 1 Axes>"
            ]
          },
          "metadata": {
            "tags": [],
            "needs_background": "light"
          }
        }
      ]
    },
    {
      "cell_type": "code",
      "metadata": {
        "colab": {
          "base_uri": "https://localhost:8080/",
          "height": 461
        },
        "id": "aRIn4OWnTMlW",
        "outputId": "d820f05e-55c7-498b-cfac-561feef1d232"
      },
      "source": [
        "gender_flg = patient_info [patient_info['Tumor_label'] != 0 ]['Gender'].value_counts()\n",
        "display(gender_flg)\n",
        "plt.figure(figsize = (9 , 6))\n",
        "plt.bar(gender_flg.index , gender_flg , color=['gold', 'yellowgreen', 'lightcoral','#1f77b4', '#d62728', 'lightcoral','#7f7f7f'])\n",
        "plt.xlabel('Gender')\n",
        "plt.ylabel('Frequncy')\n",
        "plt.title(' Gender For Patients Have Tumor')\n",
        "plt.show()\n"
      ],
      "execution_count": null,
      "outputs": [
        {
          "output_type": "display_data",
          "data": {
            "text/plain": [
              "Male      38\n",
              "Female    22\n",
              "Name: Gender, dtype: int64"
            ]
          },
          "metadata": {
            "tags": []
          }
        },
        {
          "output_type": "display_data",
          "data": {
            "image/png": "[encoded data removed]",
            "text/plain": [
              "<Figure size 648x432 with 1 Axes>"
            ]
          },
          "metadata": {
            "tags": [],
            "needs_background": "light"
          }
        }
      ]
    },
    {
      "cell_type": "code",
      "metadata": {
        "colab": {
          "base_uri": "https://localhost:8080/"
        },
        "id": "nE6BHdmzqSKh",
        "outputId": "f1b42d53-e542-4048-ce06-aa7c94d8dcd4"
      },
      "source": [
        "patient_info [patient_info['Tumor_label'] != 0 ]['Age'].mean()"
      ],
      "execution_count": null,
      "outputs": [
        {
          "output_type": "execute_result",
          "data": {
            "text/plain": [
              "60.666666666666664"
            ]
          },
          "metadata": {
            "tags": []
          },
          "execution_count": 16
        }
      ]
    },
    {
      "cell_type": "code",
      "metadata": {
        "colab": {
          "base_uri": "https://localhost:8080/",
          "height": 512
        },
        "id": "ubOpgxj-iefk",
        "outputId": "fe2f6ed5-626c-499f-96e0-594542b19881"
      },
      "source": [
        "age_range_flg = patient_info['age_range'].value_counts()\n",
        "display(age_range_flg)\n",
        "a_l = ['30-40','40-50','50-60 ','60-70','70+']\n",
        "v_l = [8,15,40,26,27]\n",
        "plt.figure(figsize = (9 , 6))\n",
        "plt.bar(a_l , v_l , color=['gold', 'yellowgreen', 'lightcoral','#1f77b4', '#d62728', 'lightcoral','#7f7f7f'])\n",
        "plt.xlabel('Range')\n",
        "plt.ylabel('Frequncy')\n",
        "plt.title('Age')\n",
        "plt.show()\n",
        "del age_range_flg"
      ],
      "execution_count": null,
      "outputs": [
        {
          "output_type": "display_data",
          "data": {
            "text/plain": [
              "50-60    40\n",
              "80+      27\n",
              "60-70    26\n",
              "40-50    15\n",
              "30-40     8\n",
              "Name: age_range, dtype: int64"
            ]
          },
          "metadata": {
            "tags": []
          }
        },
        {
          "output_type": "display_data",
          "data": {
            "image/png": "[encoded data removed]",
            "text/plain": [
              "<Figure size 648x432 with 1 Axes>"
            ]
          },
          "metadata": {
            "tags": [],
            "needs_background": "light"
          }
        }
      ]
    },
    {
      "cell_type": "code",
      "metadata": {
        "colab": {
          "base_uri": "https://localhost:8080/",
          "height": 512
        },
        "id": "tEYTzE4xI_bZ",
        "outputId": "be9e443b-7d7d-4bc6-86e3-dcae4b0ab676"
      },
      "source": [
        "age_range_flg =patient_info [patient_info['Tumor_label'] != 0 ]['age_range'].value_counts()\n",
        "display(age_range_flg)\n",
        "a_l = ['30-40','40-50','50-60 ','60-70','70+']\n",
        "v_l = [5,6,19,14,16]\n",
        "plt.figure(figsize = (9 , 6))\n",
        "plt.bar(a_l , v_l , color=['gold', 'yellowgreen', 'lightcoral','#1f77b4', '#d62728', 'lightcoral','#7f7f7f'])\n",
        "plt.xlabel('Range')\n",
        "plt.ylabel('Frequncy')\n",
        "plt.title('Age For Patients Have Tumor ')\n",
        "plt.show()\n",
        "del age_range_flg"
      ],
      "execution_count": null,
      "outputs": [
        {
          "output_type": "display_data",
          "data": {
            "text/plain": [
              "50-60    19\n",
              "80+      16\n",
              "60-70    14\n",
              "40-50     6\n",
              "30-40     5\n",
              "Name: age_range, dtype: int64"
            ]
          },
          "metadata": {
            "tags": []
          }
        },
        {
          "output_type": "display_data",
          "data": {
            "image/png": "[encoded data removed]",
            "text/plain": [
              "<Figure size 648x432 with 1 Axes>"
            ]
          },
          "metadata": {
            "tags": [],
            "needs_background": "light"
          }
        }
      ]
    },
    {
      "cell_type": "code",
      "metadata": {
        "colab": {
          "base_uri": "https://localhost:8080/",
          "height": 461
        },
        "id": "FrriLrO7XVjr",
        "outputId": "122458f8-c70a-46ed-940c-ed62f8d1b308"
      },
      "source": [
        "labels = ['2020','2021']\n",
        "Date_flg = patient_info['Date'].value_counts()\n",
        "display(Date_flg)\n",
        "plt.figure(figsize = (9 , 6))\n",
        "plt.bar( labels , Date_flg , color=['lightcoral','#1f77b4', '#d62728', 'lightcoral','#7f7f7f'])\n",
        "plt.xlabel('Year')\n",
        "plt.ylabel('Frequncy')\n",
        "plt.title('Date Test')\n",
        "plt.show()\n",
        "del Date_flg\n",
        "del labels"
      ],
      "execution_count": null,
      "outputs": [
        {
          "output_type": "display_data",
          "data": {
            "text/plain": [
              "2020    83\n",
              "2021    37\n",
              "Name: Date, dtype: int64"
            ]
          },
          "metadata": {
            "tags": []
          }
        },
        {
          "output_type": "display_data",
          "data": {
            "image/png": "[encoded data removed]",
            "text/plain": [
              "<Figure size 648x432 with 1 Axes>"
            ]
          },
          "metadata": {
            "tags": [],
            "needs_background": "light"
          }
        }
      ]
    },
    {
      "cell_type": "code",
      "metadata": {
        "colab": {
          "base_uri": "https://localhost:8080/",
          "height": 315
        },
        "id": "0YI7h3JrYon3",
        "outputId": "192fe843-3759-43eb-8441-e2770522f703"
      },
      "source": [
        "Taking_Contrast_flg = patient_info['Taking_Contrast'].value_counts()\n",
        "display(Taking_Contrast_flg)\n",
        "fig1, ax1 = plt.subplots()\n",
        "labels=['Yes', \"No\"]\n",
        "plt.pie( Taking_Contrast_flg , labels=labels , autopct='%1.1f%%', shadow=True, startangle=90 )\n",
        "ax1.axis('equal')\n",
        "plt.title('Taking Contrast')\n",
        "plt.show()\n",
        "del Taking_Contrast_flg\n",
        "del labels\n",
        "del fig1\n",
        "del ax1"
      ],
      "execution_count": null,
      "outputs": [
        {
          "output_type": "display_data",
          "data": {
            "text/plain": [
              "Yes    73\n",
              "No     47\n",
              "Name: Taking_Contrast, dtype: int64"
            ]
          },
          "metadata": {
            "tags": []
          }
        },
        {
          "output_type": "display_data",
          "data": {
            "image/png": "[encoded data removed]",
            "text/plain": [
              "<Figure size 432x288 with 1 Axes>"
            ]
          },
          "metadata": {
            "tags": []
          }
        }
      ]
    },
    {
      "cell_type": "code",
      "metadata": {
        "colab": {
          "base_uri": "https://localhost:8080/",
          "height": 315
        },
        "id": "49SDBohDmtHM",
        "outputId": "020fd882-975b-4b92-8dfa-2c8b916caecb"
      },
      "source": [
        "Taking_Contrast_flg =  patient_info [patient_info['Tumor_label'] != 0 ]['Taking_Contrast'].value_counts()\n",
        "display(Taking_Contrast_flg)\n",
        "fig1, ax1 = plt.subplots()\n",
        "labels=['Yes', \"No\"]\n",
        "plt.pie( Taking_Contrast_flg , labels=labels , autopct='%1.1f%%', shadow=True, startangle=90 )\n",
        "ax1.axis('equal')\n",
        "plt.title('Taking Contrast For Patients Have Tumor ')\n",
        "plt.show()\n",
        "del Taking_Contrast_flg\n",
        "del labels\n",
        "del fig1\n",
        "del ax1"
      ],
      "execution_count": null,
      "outputs": [
        {
          "output_type": "display_data",
          "data": {
            "text/plain": [
              "Yes    38\n",
              "No     22\n",
              "Name: Taking_Contrast, dtype: int64"
            ]
          },
          "metadata": {
            "tags": []
          }
        },
        {
          "output_type": "display_data",
          "data": {
            "image/png": "[encoded data removed]",
            "text/plain": [
              "<Figure size 432x288 with 1 Axes>"
            ]
          },
          "metadata": {
            "tags": []
          }
        }
      ]
    },
    {
      "cell_type": "code",
      "metadata": {
        "colab": {
          "base_uri": "https://localhost:8080/",
          "height": 315
        },
        "id": "DOJARpIFpAFn",
        "outputId": "9c243d6b-07ed-4017-dc67-15a8e195a21a"
      },
      "source": [
        "Taking_Contrast_flg =  patient_info [patient_info['Tumor_label'] != 1 ]['Taking_Contrast'].value_counts()\n",
        "display(Taking_Contrast_flg)\n",
        "fig1, ax1 = plt.subplots()\n",
        "labels=['Yes', \"No\"]\n",
        "plt.pie( Taking_Contrast_flg , labels=labels , autopct='%1.1f%%', shadow=True, startangle=90 )\n",
        "ax1.axis('equal')\n",
        "plt.title('Taking Contrast For Patients Not Have Tumor')\n",
        "plt.show()\n",
        "del Taking_Contrast_flg\n",
        "del labels\n",
        "del fig1\n",
        "del ax1"
      ],
      "execution_count": null,
      "outputs": [
        {
          "output_type": "display_data",
          "data": {
            "text/plain": [
              "Yes    35\n",
              "No     25\n",
              "Name: Taking_Contrast, dtype: int64"
            ]
          },
          "metadata": {
            "tags": []
          }
        },
        {
          "output_type": "display_data",
          "data": {
            "image/png": "[encoded data removed]",
            "text/plain": [
              "<Figure size 432x288 with 1 Axes>"
            ]
          },
          "metadata": {
            "tags": []
          }
        }
      ]
    },
    {
      "cell_type": "code",
      "metadata": {
        "colab": {
          "base_uri": "https://localhost:8080/",
          "height": 332
        },
        "id": "2Td0yNLOPc0Y",
        "outputId": "6c53f931-1390-43ff-9a52-69a0797aa592"
      },
      "source": [
        "Tumor_Type_flg = patient_info['Tumor_Type'].value_counts()\n",
        "display(Tumor_Type_flg)\n",
        "fig1, ax1 = plt.subplots()\n",
        "labels=['Yes', \"No\"]\n",
        "plt.pie( Tumor_Type_flg , labels= list (Tumor_Type_flg.index ) , autopct='%1.1f%%', shadow=True, startangle=100 )\n",
        "ax1.axis('equal')\n",
        "plt.title('Tumor Type')\n",
        "plt.show()\n",
        "del Tumor_Type_flg\n",
        "del labels\n",
        "del fig1\n",
        "del ax1"
      ],
      "execution_count": null,
      "outputs": [
        {
          "output_type": "display_data",
          "data": {
            "text/plain": [
              "Uninfected    60\n",
              "Benign        38\n",
              "Malignant     22\n",
              "Name: Tumor_Type, dtype: int64"
            ]
          },
          "metadata": {
            "tags": []
          }
        },
        {
          "output_type": "display_data",
          "data": {
            "image/png": "[encoded data removed]",
            "text/plain": [
              "<Figure size 432x288 with 1 Axes>"
            ]
          },
          "metadata": {
            "tags": []
          }
        }
      ]
    },
    {
      "cell_type": "code",
      "metadata": {
        "colab": {
          "base_uri": "https://localhost:8080/",
          "height": 529
        },
        "id": "9gyC6PTMPxc0",
        "outputId": "48069cce-3796-4d60-f846-742dec49c59a"
      },
      "source": [
        "Tumor_Class_flg = patient_info[patient_info['Tumor_Class']!=\"Null\" ]\n",
        "Tumor_Class_flg = Tumor_Class_flg['Tumor_Class'].value_counts()\n",
        "\n",
        "display(Tumor_Class_flg)\n",
        "plt.figure(figsize = (15 , 6))\n",
        "plt.bar( Tumor_Class_flg.index , Tumor_Class_flg , color=['lightgreen','#4dd2ff','#ff3333', '#ff6666', '#4dd2c9','#7f7f7f'])\n",
        "plt.xlabel('class')\n",
        "plt.ylabel('Frequncy')\n",
        "plt.title('Tumor Class')\n",
        "plt.show()\n",
        "del Tumor_Class_flg"
      ],
      "execution_count": null,
      "outputs": [
        {
          "output_type": "display_data",
          "data": {
            "text/plain": [
              "Uninfected        60\n",
              "Adenoma           28\n",
              "RCC               11\n",
              "Secondary         11\n",
              "Angiomyolipoma     9\n",
              "Lipomas            1\n",
              "Name: Tumor_Class, dtype: int64"
            ]
          },
          "metadata": {
            "tags": []
          }
        },
        {
          "output_type": "display_data",
          "data": {
            "image/png": "[encoded data removed]",
            "text/plain": [
              "<Figure size 1080x432 with 1 Axes>"
            ]
          },
          "metadata": {
            "tags": [],
            "needs_background": "light"
          }
        }
      ]
    },
    {
      "cell_type": "code",
      "metadata": {
        "id": "kkXc3Yq0V3-f",
        "colab": {
          "base_uri": "https://localhost:8080/"
        },
        "outputId": "50e52b02-a857-4812-88aa-08236a302dd7"
      },
      "source": [
        "['Adenoma','Angiomyolipoma'] # حميد\n",
        "['RCC','Secondary'] # خبيث"
      ],
      "execution_count": null,
      "outputs": [
        {
          "output_type": "execute_result",
          "data": {
            "text/plain": [
              "['RCC', 'Secondary']"
            ]
          },
          "metadata": {
            "tags": []
          },
          "execution_count": 26
        }
      ]
    },
    {
      "cell_type": "code",
      "metadata": {
        "id": "UaiIZrFx0GNK",
        "colab": {
          "base_uri": "https://localhost:8080/",
          "height": 762
        },
        "outputId": "f5ad04c1-64ea-41e9-8f8a-9df2101412c6"
      },
      "source": [
        "Taking_Contrast_flg = patient_info['Segmentation_Left'].value_counts()\n",
        "display(Taking_Contrast_flg)\n",
        "fig1, ax1 = plt.subplots()\n",
        "labels=['Yes', \"No\"]\n",
        "plt.pie( Taking_Contrast_flg , labels=Taking_Contrast_flg.index , autopct='%1.1f%%', shadow=True, startangle=90 )\n",
        "ax1.axis('equal')\n",
        "plt.title('Taking Contrast')\n",
        "plt.show()\n",
        "del Taking_Contrast_flg\n",
        "del labels\n",
        "del fig1\n",
        "del ax1"
      ],
      "execution_count": null,
      "outputs": [
        {
          "output_type": "display_data",
          "data": {
            "text/plain": [
              "Undefined                                    57\n",
              "Upper portion                                 9\n",
              "Upper pole                                    8\n",
              "Renal pelvis                                  7\n",
              "Midportion                                    7\n",
              "Midportion                                    4\n",
              "Renal pelvis, Upper portion                   3\n",
              "Left renal pelvis                             2\n",
              "Lower pole                                    2\n",
              "Midportion, Upper pole                        2\n",
              "Lower calyceal                                2\n",
              "Medial limb                                   1\n",
              "Renal pelvis, Calyceal                        1\n",
              "Midportion, Lower calyceal                    1\n",
              "Lower pole, Upper portion                     1\n",
              "Upper calyceal                                1\n",
              "Lower portion, Lower calyceal                 1\n",
              "Midportion and Lower portion                  1\n",
              "Left-sided parapelvic                         1\n",
              "Left renal pelvis, Lower calyceal             1\n",
              "Upper and Middle portions                     1\n",
              "Renal pelvis, Lower pole                      1\n",
              "Upper calyceal, Lower pole                    1\n",
              "Lower calyceal, Lower portion                 1\n",
              "Upper portion, Lower pole, Lower calyceal     1\n",
              "Upper calyceal                                1\n",
              "Lower pole                                    1\n",
              "Lower portion                                 1\n",
              "Name: Segmentation_Left, dtype: int64"
            ]
          },
          "metadata": {
            "tags": []
          }
        },
        {
          "output_type": "display_data",
          "data": {
            "image/png": "[encoded data removed]",
            "text/plain": [
              "<Figure size 432x288 with 1 Axes>"
            ]
          },
          "metadata": {
            "tags": []
          }
        }
      ]
    },
    {
      "cell_type": "code",
      "metadata": {
        "colab": {
          "base_uri": "https://localhost:8080/",
          "height": 581
        },
        "id": "gJrnXf_zaN71",
        "outputId": "0da339cf-9235-442e-869b-883ae6665c46"
      },
      "source": [
        "Symptoms_flg = patient_info['Symptoms'].value_counts()\n",
        "display(Symptoms_flg)\n",
        "plt.figure(figsize = (50 , 6))\n",
        "plt.bar(Symptoms_flg.index , Symptoms_flg , color=['gold', 'yellowgreen', 'lightcoral','#1f77b4', '#d62728', 'lightcoral','#7f7f7f'])\n",
        "plt.xlabel('Symptoms')\n",
        "plt.ylabel('Frequncy')\n",
        "plt.title('Patient Symptoms')\n",
        "plt.show()\n",
        "del Symptoms_flg"
      ],
      "execution_count": null,
      "outputs": [
        {
          "output_type": "display_data",
          "data": {
            "text/plain": [
              "Not provided                              43\n",
              "Flank pain                                28\n",
              "Abdomen pain                              18\n",
              "Abdominal pain                             6\n",
              "Abdomen pain, Vomiting                     4\n",
              "Flank pain                                 4\n",
              "Hematuria, Flank pain                      3\n",
              "Flank pain, Vomiting                       2\n",
              "Constipation                               1\n",
              "Acute obstructive uropathy                 1\n",
              "Abdomen pain, Vomiting                     1\n",
              "Bleeding per rectum                        1\n",
              "Anemia, weight loss                        1\n",
              "Abdomen pain                               1\n",
              "Abdomenal pain                             1\n",
              "Fever                                      1\n",
              "Flank pain, Acute obstructive uropathy     1\n",
              "Bilateral flank pain                       1\n",
              "Abdominal pain                             1\n",
              "Tiredness                                  1\n",
              "Name: Symptoms, dtype: int64"
            ]
          },
          "metadata": {
            "tags": []
          }
        },
        {
          "output_type": "display_data",
          "data": {
            "image/png": "[encoded data removed]",
            "text/plain": [
              "<Figure size 3600x432 with 1 Axes>"
            ]
          },
          "metadata": {
            "tags": [],
            "needs_background": "light"
          }
        }
      ]
    },
    {
      "cell_type": "code",
      "metadata": {
        "colab": {
          "base_uri": "https://localhost:8080/",
          "height": 683
        },
        "id": "DIYXFHLKeOAM",
        "outputId": "f2838d9c-14b1-4a17-b8cc-90240ebbfad3"
      },
      "source": [
        "Diagnosing_Right_Kidney_flg = patient_info['Diagnosing_Right_Kidney'].value_counts()\n",
        "display(Diagnosing_Right_Kidney_flg)\n",
        "plt.figure(figsize = (60 , 6))\n",
        "plt.bar(Diagnosing_Right_Kidney_flg.index , Diagnosing_Right_Kidney_flg , color=['gold', 'yellowgreen', 'lightcoral','#1f77b4', '#d62728', 'lightcoral','#7f7f7f'])\n",
        "plt.xlabel('Diagnosing Right Kidney')\n",
        "plt.ylabel('Frequncy')\n",
        "plt.title('Patient Gender')\n",
        "plt.show()\n",
        "del Diagnosing_Right_Kidney_flg"
      ],
      "execution_count": null,
      "outputs": [
        {
          "output_type": "display_data",
          "data": {
            "text/plain": [
              "Healthy                           25\n",
              "Cyst                              22\n",
              "Lesion                             8\n",
              "Hydronephrosis                     8\n",
              "Tissue adrenal                     8\n",
              "Stone                              6\n",
              "Hydronephrosis                     4\n",
              "Cyst                               4\n",
              "Tissue adrenal, cyst               4\n",
              "Tissue adrenal                     3\n",
              "Unremarkable                       3\n",
              "Cyst, stone                        3\n",
              "Hydronephrosis, stone              2\n",
              "Lesion                             2\n",
              "Hydronephrosis, stone, cyst        2\n",
              "Nephrectomy                        2\n",
              "Stone, cyst                        2\n",
              "Fat                                2\n",
              "Tissue adrenal, hydronephrosis     1\n",
              "Tissue adrenal, lesion             1\n",
              "Nephrectomy                        1\n",
              "Bulky, cyst                        1\n",
              "Renal scars                        1\n",
              "Ruptured cortical cyst             1\n",
              "Nephrectomy, tissue adrenal        1\n",
              "Unremarkable                       1\n",
              "Stone                              1\n",
              "Lesion, cyst                       1\n",
              "Name: Diagnosing_Right_Kidney, dtype: int64"
            ]
          },
          "metadata": {
            "tags": []
          }
        },
        {
          "output_type": "display_data",
          "data": {
            "image/png": "[encoded data removed]",
            "text/plain": [
              "<Figure size 4320x432 with 1 Axes>"
            ]
          },
          "metadata": {
            "tags": [],
            "needs_background": "light"
          }
        }
      ]
    },
    {
      "cell_type": "code",
      "metadata": {
        "colab": {
          "base_uri": "https://localhost:8080/"
        },
        "id": "AvLiOHPegu0O",
        "outputId": "1a8e4264-9159-4bef-b397-6a6338940f4d"
      },
      "source": [
        "patient_info['Tumor_Type'].value_counts()"
      ],
      "execution_count": null,
      "outputs": [
        {
          "output_type": "execute_result",
          "data": {
            "text/plain": [
              "Uninfected    60\n",
              "Benign        38\n",
              "Malignant     22\n",
              "Name: Tumor_Type, dtype: int64"
            ]
          },
          "metadata": {
            "tags": []
          },
          "execution_count": 30
        }
      ]
    },
    {
      "cell_type": "markdown",
      "metadata": {
        "id": "Hs4R9OP48EKq"
      },
      "source": [
        "# Create Tumor labels"
      ]
    },
    {
      "cell_type": "code",
      "metadata": {
        "colab": {
          "base_uri": "https://localhost:8080/",
          "height": 461
        },
        "id": "eqVHSpe19DmU",
        "outputId": "e68d94f8-9014-43cf-b468-58d9ca1ac361"
      },
      "source": [
        "\n",
        "Tumor_label_flg = patient_info['Tumor_label'].value_counts()\n",
        "display(Tumor_label_flg)\n",
        "label = ['True' , 'False']\n",
        "plt.figure(figsize = (9 , 6))\n",
        "plt.bar( label , Tumor_label_flg , color=['gold', 'yellowgreen', 'lightcoral','#1f77b4', '#d62728', 'lightcoral','#7f7f7f'])\n",
        "plt.xlabel('Tumor Type labels')\n",
        "plt.ylabel('Frequncy')\n",
        "plt.title('Type')\n",
        "plt.show()\n",
        "del Tumor_label_flg\n",
        "del label"
      ],
      "execution_count": null,
      "outputs": [
        {
          "output_type": "display_data",
          "data": {
            "text/plain": [
              "1    60\n",
              "0    60\n",
              "Name: Tumor_label, dtype: int64"
            ]
          },
          "metadata": {
            "tags": []
          }
        },
        {
          "output_type": "display_data",
          "data": {
            "image/png": "[encoded data removed]",
            "text/plain": [
              "<Figure size 648x432 with 1 Axes>"
            ]
          },
          "metadata": {
            "tags": [],
            "needs_background": "light"
          }
        }
      ]
    },
    {
      "cell_type": "code",
      "metadata": {
        "colab": {
          "base_uri": "https://localhost:8080/",
          "height": 745
        },
        "id": "Nfb86RPVXaaS",
        "outputId": "879ca246-c604-40ed-ad54-747f97587219"
      },
      "source": [
        "patient_info"
      ],
      "execution_count": null,
      "outputs": [
        {
          "output_type": "execute_result",
          "data": {
            "text/html": [
              "<div>\n",
              "<style scoped>\n",
              "    .dataframe tbody tr th:only-of-type {\n",
              "        vertical-align: middle;\n",
              "    }\n",
              "\n",
              "    .dataframe tbody tr th {\n",
              "        vertical-align: top;\n",
              "    }\n",
              "\n",
              "    .dataframe thead th {\n",
              "        text-align: right;\n",
              "    }\n",
              "</style>\n",
              "<table border=\"1\" class=\"dataframe\">\n",
              "  <thead>\n",
              "    <tr style=\"text-align: right;\">\n",
              "      <th></th>\n",
              "      <th>Patient_ID</th>\n",
              "      <th>Patient_Num</th>\n",
              "      <th>Age</th>\n",
              "      <th>Gender</th>\n",
              "      <th>Date</th>\n",
              "      <th>Taking_Contrast</th>\n",
              "      <th>Clinical_data</th>\n",
              "      <th>Symptoms</th>\n",
              "      <th>Diagnosing_test</th>\n",
              "      <th>Diagnosing_Right_Kidney</th>\n",
              "      <th>Injure_range_Right_K_in_Details</th>\n",
              "      <th>Segmentation_Right</th>\n",
              "      <th>Diagnosing_Left_Kidney</th>\n",
              "      <th>Injure_range_Left_K_in_Details</th>\n",
              "      <th>Segmentation_Left</th>\n",
              "      <th>Stage</th>\n",
              "      <th>Situation</th>\n",
              "      <th>Tumor_Type</th>\n",
              "      <th>Tumor_Class</th>\n",
              "      <th>Tumor_label</th>\n",
              "      <th>age_range</th>\n",
              "    </tr>\n",
              "  </thead>\n",
              "  <tbody>\n",
              "    <tr>\n",
              "      <th>0</th>\n",
              "      <td>KA00001301</td>\n",
              "      <td>1</td>\n",
              "      <td>33</td>\n",
              "      <td>Male</td>\n",
              "      <td>2021</td>\n",
              "      <td>Yes</td>\n",
              "      <td>Not provided</td>\n",
              "      <td>Flank pain</td>\n",
              "      <td>Soft tissue mass lesion seen in the right adre...</td>\n",
              "      <td>Tissue adrenal</td>\n",
              "      <td>Tissue 2.3 x 1.7 cm adrenal</td>\n",
              "      <td>Undefined</td>\n",
              "      <td>Unremarkable</td>\n",
              "      <td>Unremarkable</td>\n",
              "      <td>Undefined</td>\n",
              "      <td>I</td>\n",
              "      <td>Tumor</td>\n",
              "      <td>Benign</td>\n",
              "      <td>Adenoma</td>\n",
              "      <td>1</td>\n",
              "      <td>30-40</td>\n",
              "    </tr>\n",
              "    <tr>\n",
              "      <th>1</th>\n",
              "      <td>KA00017864</td>\n",
              "      <td>2</td>\n",
              "      <td>56</td>\n",
              "      <td>Male</td>\n",
              "      <td>2020</td>\n",
              "      <td>No</td>\n",
              "      <td>Not provided</td>\n",
              "      <td>Flank pain</td>\n",
              "      <td>Mild bilateral hydronephrosis, kidney stone, l...</td>\n",
              "      <td>Tissue adrenal</td>\n",
              "      <td>Hyperdense lesion 1.5 cm adrenal</td>\n",
              "      <td>Lower pole, Midportion</td>\n",
              "      <td>Hydronephrosis</td>\n",
              "      <td>Hydronephrosis 1.6 cm, stone 1.3 cm</td>\n",
              "      <td>Lower calyceal</td>\n",
              "      <td>I</td>\n",
              "      <td>Tumor</td>\n",
              "      <td>Benign</td>\n",
              "      <td>Adenoma</td>\n",
              "      <td>1</td>\n",
              "      <td>50-60</td>\n",
              "    </tr>\n",
              "    <tr>\n",
              "      <th>2</th>\n",
              "      <td>KA00015810</td>\n",
              "      <td>3</td>\n",
              "      <td>50</td>\n",
              "      <td>Male</td>\n",
              "      <td>2020</td>\n",
              "      <td>No</td>\n",
              "      <td>Kidney cyst and stone</td>\n",
              "      <td>Not provided</td>\n",
              "      <td>Adenpma adrenal gland</td>\n",
              "      <td>Tissue adrenal</td>\n",
              "      <td>Adrenal gland , hydronephrosis 2.2cm</td>\n",
              "      <td>Lower calyceal</td>\n",
              "      <td>Cyst, stone</td>\n",
              "      <td>Cyst 3.3 x 3.8cm, stone</td>\n",
              "      <td>Lower calyceal</td>\n",
              "      <td>I</td>\n",
              "      <td>Tumor</td>\n",
              "      <td>Benign</td>\n",
              "      <td>Adenoma</td>\n",
              "      <td>1</td>\n",
              "      <td>40-50</td>\n",
              "    </tr>\n",
              "    <tr>\n",
              "      <th>3</th>\n",
              "      <td>KA00017037</td>\n",
              "      <td>4</td>\n",
              "      <td>53</td>\n",
              "      <td>Male</td>\n",
              "      <td>2021</td>\n",
              "      <td>Yes</td>\n",
              "      <td>Ewing sarcoma</td>\n",
              "      <td>Not provided</td>\n",
              "      <td>Stable bilateral adrenal lesions</td>\n",
              "      <td>Tissue adrenal, hydronephrosis</td>\n",
              "      <td>Adrenal gland 2 x 1.7 cm</td>\n",
              "      <td>Upper pole</td>\n",
              "      <td>Tissue adrenal</td>\n",
              "      <td>Adrenal gland 1.6 x 1 cm, cyst 1.3x 1.5 cm</td>\n",
              "      <td>Upper pole</td>\n",
              "      <td>I</td>\n",
              "      <td>Tumor</td>\n",
              "      <td>Benign</td>\n",
              "      <td>Adenoma</td>\n",
              "      <td>1</td>\n",
              "      <td>50-60</td>\n",
              "    </tr>\n",
              "    <tr>\n",
              "      <th>4</th>\n",
              "      <td>KA00103871</td>\n",
              "      <td>5</td>\n",
              "      <td>57</td>\n",
              "      <td>Male</td>\n",
              "      <td>2020</td>\n",
              "      <td>No</td>\n",
              "      <td>Not provided</td>\n",
              "      <td>Flank pain</td>\n",
              "      <td>Few nonobstructive stones seen in both kidneys...</td>\n",
              "      <td>Stone, cyst</td>\n",
              "      <td>Stone 6 mm, cyst, renal scars</td>\n",
              "      <td>Upper calyceal</td>\n",
              "      <td>Tissue adrenal, stone</td>\n",
              "      <td>Stone, cyst 2.1 x 2.2 cm, Adrenal_g 1.4 x 1.6 cm</td>\n",
              "      <td>Midportion, Upper pole</td>\n",
              "      <td>I</td>\n",
              "      <td>Tumor</td>\n",
              "      <td>Benign</td>\n",
              "      <td>Adenoma</td>\n",
              "      <td>1</td>\n",
              "      <td>50-60</td>\n",
              "    </tr>\n",
              "    <tr>\n",
              "      <th>...</th>\n",
              "      <td>...</td>\n",
              "      <td>...</td>\n",
              "      <td>...</td>\n",
              "      <td>...</td>\n",
              "      <td>...</td>\n",
              "      <td>...</td>\n",
              "      <td>...</td>\n",
              "      <td>...</td>\n",
              "      <td>...</td>\n",
              "      <td>...</td>\n",
              "      <td>...</td>\n",
              "      <td>...</td>\n",
              "      <td>...</td>\n",
              "      <td>...</td>\n",
              "      <td>...</td>\n",
              "      <td>...</td>\n",
              "      <td>...</td>\n",
              "      <td>...</td>\n",
              "      <td>...</td>\n",
              "      <td>...</td>\n",
              "      <td>...</td>\n",
              "    </tr>\n",
              "    <tr>\n",
              "      <th>115</th>\n",
              "      <td>KA00119037</td>\n",
              "      <td>116</td>\n",
              "      <td>69</td>\n",
              "      <td>Female</td>\n",
              "      <td>2021</td>\n",
              "      <td>No</td>\n",
              "      <td>Bulky both adrenal glands</td>\n",
              "      <td>Flank pain</td>\n",
              "      <td>The right kidney appear bulky surrounding by f...</td>\n",
              "      <td>Fat</td>\n",
              "      <td>Fat</td>\n",
              "      <td>Undefined</td>\n",
              "      <td>Unremarkable</td>\n",
              "      <td>Unremarkable</td>\n",
              "      <td>Undefined</td>\n",
              "      <td>Null</td>\n",
              "      <td>Normal case 'Healthy'</td>\n",
              "      <td>Uninfected</td>\n",
              "      <td>Uninfected</td>\n",
              "      <td>0</td>\n",
              "      <td>60-70</td>\n",
              "    </tr>\n",
              "    <tr>\n",
              "      <th>116</th>\n",
              "      <td>KA00003828</td>\n",
              "      <td>117</td>\n",
              "      <td>76</td>\n",
              "      <td>Male</td>\n",
              "      <td>2020</td>\n",
              "      <td>Yes</td>\n",
              "      <td>Not provided</td>\n",
              "      <td>Abdomen pain, Vomiting</td>\n",
              "      <td>Bulky prostate gland, duodenitis, lesion liver</td>\n",
              "      <td>Healthy</td>\n",
              "      <td>Healthy</td>\n",
              "      <td>Undefined</td>\n",
              "      <td>Undefind</td>\n",
              "      <td>Undefind</td>\n",
              "      <td>Undefined</td>\n",
              "      <td>Null</td>\n",
              "      <td>Normal case 'Healthy'</td>\n",
              "      <td>Uninfected</td>\n",
              "      <td>Uninfected</td>\n",
              "      <td>0</td>\n",
              "      <td>80+</td>\n",
              "    </tr>\n",
              "    <tr>\n",
              "      <th>117</th>\n",
              "      <td>KA00006120</td>\n",
              "      <td>118</td>\n",
              "      <td>57</td>\n",
              "      <td>Female</td>\n",
              "      <td>2021</td>\n",
              "      <td>No</td>\n",
              "      <td>Not provided</td>\n",
              "      <td>Abdomen pain</td>\n",
              "      <td>Fatty infiltration of the liver,  left sided a...</td>\n",
              "      <td>Unremarkable</td>\n",
              "      <td>Unremarkable</td>\n",
              "      <td>Undefined</td>\n",
              "      <td>Unremarkable</td>\n",
              "      <td>Unremarkable</td>\n",
              "      <td>Undefined</td>\n",
              "      <td>Null</td>\n",
              "      <td>Normal case 'Healthy'</td>\n",
              "      <td>Uninfected</td>\n",
              "      <td>Uninfected</td>\n",
              "      <td>0</td>\n",
              "      <td>50-60</td>\n",
              "    </tr>\n",
              "    <tr>\n",
              "      <th>118</th>\n",
              "      <td>KA00007045</td>\n",
              "      <td>119</td>\n",
              "      <td>43</td>\n",
              "      <td>Female</td>\n",
              "      <td>2020</td>\n",
              "      <td>Yes</td>\n",
              "      <td>Not provided</td>\n",
              "      <td>Anemia, weight loss</td>\n",
              "      <td>Rright sided adnexal cyst noted meaures about ...</td>\n",
              "      <td>Unremarkable</td>\n",
              "      <td>Unremarkable</td>\n",
              "      <td>Undefined</td>\n",
              "      <td>Unremarkable</td>\n",
              "      <td>Unremarkable</td>\n",
              "      <td>Undefined</td>\n",
              "      <td>Null</td>\n",
              "      <td>Normal case 'Healthy'</td>\n",
              "      <td>Uninfected</td>\n",
              "      <td>Uninfected</td>\n",
              "      <td>0</td>\n",
              "      <td>40-50</td>\n",
              "    </tr>\n",
              "    <tr>\n",
              "      <th>119</th>\n",
              "      <td>KA00122766</td>\n",
              "      <td>120</td>\n",
              "      <td>27</td>\n",
              "      <td>Female</td>\n",
              "      <td>2020</td>\n",
              "      <td>No</td>\n",
              "      <td>Not provided</td>\n",
              "      <td>Flank pain</td>\n",
              "      <td>Granuloma in the right lobe of the liver</td>\n",
              "      <td>Hydronephrosis</td>\n",
              "      <td>Hydronephrosis 1.5 cm</td>\n",
              "      <td>Undefined</td>\n",
              "      <td>Unremarkable</td>\n",
              "      <td>Unremarkable</td>\n",
              "      <td>Undefined</td>\n",
              "      <td>Null</td>\n",
              "      <td>Normal case 'Healthy'</td>\n",
              "      <td>Uninfected</td>\n",
              "      <td>Uninfected</td>\n",
              "      <td>0</td>\n",
              "      <td>NaN</td>\n",
              "    </tr>\n",
              "  </tbody>\n",
              "</table>\n",
              "<p>120 rows × 21 columns</p>\n",
              "</div>"
            ],
            "text/plain": [
              "     Patient_ID  Patient_Num  Age  ... Tumor_Class  Tumor_label age_range\n",
              "0    KA00001301            1   33  ...     Adenoma            1     30-40\n",
              "1    KA00017864            2   56  ...     Adenoma            1     50-60\n",
              "2    KA00015810            3   50  ...     Adenoma            1     40-50\n",
              "3    KA00017037            4   53  ...     Adenoma            1     50-60\n",
              "4    KA00103871            5   57  ...     Adenoma            1     50-60\n",
              "..          ...          ...  ...  ...         ...          ...       ...\n",
              "115  KA00119037          116   69  ...  Uninfected            0     60-70\n",
              "116  KA00003828          117   76  ...  Uninfected            0       80+\n",
              "117  KA00006120          118   57  ...  Uninfected            0     50-60\n",
              "118  KA00007045          119   43  ...  Uninfected            0     40-50\n",
              "119  KA00122766          120   27  ...  Uninfected            0       NaN\n",
              "\n",
              "[120 rows x 21 columns]"
            ]
          },
          "metadata": {
            "tags": []
          },
          "execution_count": 32
        }
      ]
    },
    {
      "cell_type": "code",
      "metadata": {
        "colab": {
          "base_uri": "https://localhost:8080/"
        },
        "id": "8JjFyYlHXgny",
        "outputId": "e6b66183-7676-4144-ac3e-e40c2aa71771"
      },
      "source": [
        "patient_info['Situation'].value_counts()"
      ],
      "execution_count": null,
      "outputs": [
        {
          "output_type": "execute_result",
          "data": {
            "text/plain": [
              "Tumor                    60\n",
              "Normal case 'Healthy'    32\n",
              "Normal case with cyst    28\n",
              "Name: Situation, dtype: int64"
            ]
          },
          "metadata": {
            "tags": []
          },
          "execution_count": 33
        }
      ]
    },
    {
      "cell_type": "code",
      "metadata": {
        "colab": {
          "base_uri": "https://localhost:8080/",
          "height": 173
        },
        "id": "kMF9_gWlX_ui",
        "outputId": "c11fe43f-6fee-4074-8807-992dc881bf0a"
      },
      "source": [
        "Situation_with_gender_male = patient_info [patient_info['Gender']== \"Male\"]\n",
        "Situation_with_gender_male = Situation_with_gender_male.groupby(['Situation'])\n",
        "Situation_with_gender_male = Situation_with_gender_male['Patient_Num'].describe()\n",
        "Situation_with_gender_male"
      ],
      "execution_count": null,
      "outputs": [
        {
          "output_type": "execute_result",
          "data": {
            "text/html": [
              "<div>\n",
              "<style scoped>\n",
              "    .dataframe tbody tr th:only-of-type {\n",
              "        vertical-align: middle;\n",
              "    }\n",
              "\n",
              "    .dataframe tbody tr th {\n",
              "        vertical-align: top;\n",
              "    }\n",
              "\n",
              "    .dataframe thead th {\n",
              "        text-align: right;\n",
              "    }\n",
              "</style>\n",
              "<table border=\"1\" class=\"dataframe\">\n",
              "  <thead>\n",
              "    <tr style=\"text-align: right;\">\n",
              "      <th></th>\n",
              "      <th>count</th>\n",
              "      <th>mean</th>\n",
              "      <th>std</th>\n",
              "      <th>min</th>\n",
              "      <th>25%</th>\n",
              "      <th>50%</th>\n",
              "      <th>75%</th>\n",
              "      <th>max</th>\n",
              "    </tr>\n",
              "    <tr>\n",
              "      <th>Situation</th>\n",
              "      <th></th>\n",
              "      <th></th>\n",
              "      <th></th>\n",
              "      <th></th>\n",
              "      <th></th>\n",
              "      <th></th>\n",
              "      <th></th>\n",
              "      <th></th>\n",
              "    </tr>\n",
              "  </thead>\n",
              "  <tbody>\n",
              "    <tr>\n",
              "      <th>Normal case 'Healthy'</th>\n",
              "      <td>15.0</td>\n",
              "      <td>106.600000</td>\n",
              "      <td>7.725653</td>\n",
              "      <td>89.0</td>\n",
              "      <td>101.5</td>\n",
              "      <td>108.0</td>\n",
              "      <td>112.50</td>\n",
              "      <td>117.0</td>\n",
              "    </tr>\n",
              "    <tr>\n",
              "      <th>Normal case with cyst</th>\n",
              "      <td>12.0</td>\n",
              "      <td>77.666667</td>\n",
              "      <td>8.876254</td>\n",
              "      <td>63.0</td>\n",
              "      <td>71.5</td>\n",
              "      <td>79.5</td>\n",
              "      <td>85.25</td>\n",
              "      <td>88.0</td>\n",
              "    </tr>\n",
              "    <tr>\n",
              "      <th>Tumor</th>\n",
              "      <td>38.0</td>\n",
              "      <td>29.394737</td>\n",
              "      <td>18.746588</td>\n",
              "      <td>1.0</td>\n",
              "      <td>11.5</td>\n",
              "      <td>29.0</td>\n",
              "      <td>44.75</td>\n",
              "      <td>60.0</td>\n",
              "    </tr>\n",
              "  </tbody>\n",
              "</table>\n",
              "</div>"
            ],
            "text/plain": [
              "                       count        mean        std  ...    50%     75%    max\n",
              "Situation                                            ...                      \n",
              "Normal case 'Healthy'   15.0  106.600000   7.725653  ...  108.0  112.50  117.0\n",
              "Normal case with cyst   12.0   77.666667   8.876254  ...   79.5   85.25   88.0\n",
              "Tumor                   38.0   29.394737  18.746588  ...   29.0   44.75   60.0\n",
              "\n",
              "[3 rows x 8 columns]"
            ]
          },
          "metadata": {
            "tags": []
          },
          "execution_count": 34
        }
      ]
    },
    {
      "cell_type": "code",
      "metadata": {
        "colab": {
          "base_uri": "https://localhost:8080/",
          "height": 173
        },
        "id": "kuQwRbNXZ-lp",
        "outputId": "12da5401-923a-4ac8-a07f-7be4592b1172"
      },
      "source": [
        "Situation_with_gender_female= patient_info [patient_info['Gender']== \"Female\"]\n",
        "Situation_with_gender_female = Situation_with_gender_female.groupby(['Situation'])\n",
        "Situation_with_gender_female = Situation_with_gender_female['Patient_Num'].describe()\n",
        "Situation_with_gender_female"
      ],
      "execution_count": null,
      "outputs": [
        {
          "output_type": "execute_result",
          "data": {
            "text/html": [
              "<div>\n",
              "<style scoped>\n",
              "    .dataframe tbody tr th:only-of-type {\n",
              "        vertical-align: middle;\n",
              "    }\n",
              "\n",
              "    .dataframe tbody tr th {\n",
              "        vertical-align: top;\n",
              "    }\n",
              "\n",
              "    .dataframe thead th {\n",
              "        text-align: right;\n",
              "    }\n",
              "</style>\n",
              "<table border=\"1\" class=\"dataframe\">\n",
              "  <thead>\n",
              "    <tr style=\"text-align: right;\">\n",
              "      <th></th>\n",
              "      <th>count</th>\n",
              "      <th>mean</th>\n",
              "      <th>std</th>\n",
              "      <th>min</th>\n",
              "      <th>25%</th>\n",
              "      <th>50%</th>\n",
              "      <th>75%</th>\n",
              "      <th>max</th>\n",
              "    </tr>\n",
              "    <tr>\n",
              "      <th>Situation</th>\n",
              "      <th></th>\n",
              "      <th></th>\n",
              "      <th></th>\n",
              "      <th></th>\n",
              "      <th></th>\n",
              "      <th></th>\n",
              "      <th></th>\n",
              "      <th></th>\n",
              "    </tr>\n",
              "  </thead>\n",
              "  <tbody>\n",
              "    <tr>\n",
              "      <th>Normal case 'Healthy'</th>\n",
              "      <td>17.0</td>\n",
              "      <td>102.647059</td>\n",
              "      <td>10.511548</td>\n",
              "      <td>90.0</td>\n",
              "      <td>94.00</td>\n",
              "      <td>100.0</td>\n",
              "      <td>111.00</td>\n",
              "      <td>120.0</td>\n",
              "    </tr>\n",
              "    <tr>\n",
              "      <th>Normal case with cyst</th>\n",
              "      <td>16.0</td>\n",
              "      <td>72.125000</td>\n",
              "      <td>7.069889</td>\n",
              "      <td>61.0</td>\n",
              "      <td>67.50</td>\n",
              "      <td>71.5</td>\n",
              "      <td>77.25</td>\n",
              "      <td>84.0</td>\n",
              "    </tr>\n",
              "    <tr>\n",
              "      <th>Tumor</th>\n",
              "      <td>22.0</td>\n",
              "      <td>32.409091</td>\n",
              "      <td>15.221098</td>\n",
              "      <td>7.0</td>\n",
              "      <td>21.75</td>\n",
              "      <td>31.5</td>\n",
              "      <td>44.50</td>\n",
              "      <td>57.0</td>\n",
              "    </tr>\n",
              "  </tbody>\n",
              "</table>\n",
              "</div>"
            ],
            "text/plain": [
              "                       count        mean        std  ...    50%     75%    max\n",
              "Situation                                            ...                      \n",
              "Normal case 'Healthy'   17.0  102.647059  10.511548  ...  100.0  111.00  120.0\n",
              "Normal case with cyst   16.0   72.125000   7.069889  ...   71.5   77.25   84.0\n",
              "Tumor                   22.0   32.409091  15.221098  ...   31.5   44.50   57.0\n",
              "\n",
              "[3 rows x 8 columns]"
            ]
          },
          "metadata": {
            "tags": []
          },
          "execution_count": 35
        }
      ]
    },
    {
      "cell_type": "code",
      "metadata": {
        "colab": {
          "base_uri": "https://localhost:8080/",
          "height": 173
        },
        "id": "MV0iEbGLXQqo",
        "outputId": "9f3eacdc-7ecd-49f3-9854-cef823e960df"
      },
      "source": [
        "Situation_with_gender = patient_info['Situation'].value_counts()\n",
        "means = pd.DataFrame()\n",
        "means['Female'] = Situation_with_gender_female['count']\n",
        "means['Male']= Situation_with_gender_male['count']\n",
        "means['Situation']=[\"Normal case 'Healthy'\",'Normal case with cyst','Tumor']\n",
        "means = means.set_index('Situation')\n",
        "display (means)\n",
        "\n"
      ],
      "execution_count": null,
      "outputs": [
        {
          "output_type": "display_data",
          "data": {
            "text/html": [
              "<div>\n",
              "<style scoped>\n",
              "    .dataframe tbody tr th:only-of-type {\n",
              "        vertical-align: middle;\n",
              "    }\n",
              "\n",
              "    .dataframe tbody tr th {\n",
              "        vertical-align: top;\n",
              "    }\n",
              "\n",
              "    .dataframe thead th {\n",
              "        text-align: right;\n",
              "    }\n",
              "</style>\n",
              "<table border=\"1\" class=\"dataframe\">\n",
              "  <thead>\n",
              "    <tr style=\"text-align: right;\">\n",
              "      <th></th>\n",
              "      <th>Female</th>\n",
              "      <th>Male</th>\n",
              "    </tr>\n",
              "    <tr>\n",
              "      <th>Situation</th>\n",
              "      <th></th>\n",
              "      <th></th>\n",
              "    </tr>\n",
              "  </thead>\n",
              "  <tbody>\n",
              "    <tr>\n",
              "      <th>Normal case 'Healthy'</th>\n",
              "      <td>17.0</td>\n",
              "      <td>15.0</td>\n",
              "    </tr>\n",
              "    <tr>\n",
              "      <th>Normal case with cyst</th>\n",
              "      <td>16.0</td>\n",
              "      <td>12.0</td>\n",
              "    </tr>\n",
              "    <tr>\n",
              "      <th>Tumor</th>\n",
              "      <td>22.0</td>\n",
              "      <td>38.0</td>\n",
              "    </tr>\n",
              "  </tbody>\n",
              "</table>\n",
              "</div>"
            ],
            "text/plain": [
              "                       Female  Male\n",
              "Situation                          \n",
              "Normal case 'Healthy'    17.0  15.0\n",
              "Normal case with cyst    16.0  12.0\n",
              "Tumor                    22.0  38.0"
            ]
          },
          "metadata": {
            "tags": []
          }
        }
      ]
    },
    {
      "cell_type": "code",
      "metadata": {
        "id": "8-NRgy-2euM3"
      },
      "source": [
        "import matplotlib as mpl\n",
        "\n",
        "mpl.rcParams['text.usetex'] = False\n",
        "mpl.rcParams['text.latex.preamble'] = [r\"\\usepackage[charter]{mathdesign}\"]\n",
        "mpl.rcParams['font.family'] = ['Times New Roman']\n",
        "mpl.rcParams['font.size'] = 12"
      ],
      "execution_count": null,
      "outputs": []
    },
    {
      "cell_type": "code",
      "metadata": {
        "id": "XqN4d0xIfmJS"
      },
      "source": [
        "import matplotlib.pyplot as plt\n",
        "plt.rcParams[\"font.family\"] = \"Times New Roman\""
      ],
      "execution_count": null,
      "outputs": []
    },
    {
      "cell_type": "code",
      "metadata": {
        "colab": {
          "base_uri": "https://localhost:8080/",
          "height": 341
        },
        "id": "F35byn9EaVvK",
        "outputId": "9d66f92c-b1a7-48fb-eef3-e7b18c23cb14"
      },
      "source": [
        "\n",
        "fig, ax = plt.subplots(figsize = (9 , 4))\n",
        "plt.xlabel('Number of Users')\n",
        "plt.title('Gender With Situation')\n",
        "z = means.plot.bar(ax=ax, capsize=6, rot=360 ,legend='upper', color=[ '#ff6600', '#1976D2'])\n",
        "ax.set_facecolor('#ffffff')\n",
        "ax.xaxis.label.set_color('#000000')\n",
        "ax.yaxis.label.set_color('#000000')\n",
        "ax.tick_params(axis='x', colors='#000000')\n",
        "ax.tick_params(axis='y', colors='#000000')\n",
        "ax.spines['left'].set_color('#000000')        # setting up Y-axis tick color to red\n",
        "ax.spines['bottom'].set_color('#000000')\n",
        "ax.tick_params(axis='y', pad=0)\n",
        "\n",
        "ax.legend()\n",
        "\n",
        "plt.legend(loc='upper left')\n",
        "plt.xlabel(\"Situation\", labelpad=10)\n",
        "plt.ylabel(\"Count\", labelpad=10)\n",
        "plt.show()"
      ],
      "execution_count": null,
      "outputs": [
        {
          "output_type": "stream",
          "text": [
            "findfont: Font family ['Times New Roman'] not found. Falling back to DejaVu Sans.\n",
            "findfont: Font family ['Times New Roman'] not found. Falling back to DejaVu Sans.\n"
          ],
          "name": "stderr"
        },
        {
          "output_type": "display_data",
          "data": {
            "image/png": "[encoded data removed]",
            "text/plain": [
              "<Figure size 648x288 with 1 Axes>"
            ]
          },
          "metadata": {
            "tags": [],
            "needs_background": "light"
          }
        }
      ]
    },
    {
      "cell_type": "code",
      "metadata": {
        "colab": {
          "base_uri": "https://localhost:8080/",
          "height": 504
        },
        "id": "ntNGUaU-iUGE",
        "outputId": "c4ddac8d-f366-4700-aaca-2d841de48f2a"
      },
      "source": [
        "labels = ['2020','2021']\n",
        "Date_flg = patient_info['Date'].value_counts()\n",
        "display(Date_flg)\n",
        "\n",
        "fig, ax = plt.subplots(figsize = (9 , 6) , dpi=80,)\n",
        "ax.set_facecolor('#ffffff')\n",
        "ax.xaxis.label.set_color('#000000')\n",
        "ax.yaxis.label.set_color('#000000')\n",
        "ax.tick_params(axis='x', colors='#000000' )\n",
        "ax.tick_params(axis='y', colors='#000000')\n",
        "ax.spines['left'].set_color('#000000')        # setting up Y-axis tick color to red\n",
        "ax.spines['bottom'].set_color('#000000')\n",
        "plt.bar( labels , Date_flg ,width = 0.7,  color=[ '#ff6600', '#1976D2'] ,  align='center' , zorder=1)\n",
        "plt.xlabel('Year')\n",
        "plt.ylabel('Frequncy')\n",
        "plt.title('Number Of Patient')\n",
        "plt.show()"
      ],
      "execution_count": null,
      "outputs": [
        {
          "output_type": "display_data",
          "data": {
            "text/plain": [
              "2020    83\n",
              "2021    37\n",
              "Name: Date, dtype: int64"
            ]
          },
          "metadata": {
            "tags": []
          }
        },
        {
          "output_type": "display_data",
          "data": {
            "image/png": "[encoded data removed]",
            "text/plain": [
              "<Figure size 720x480 with 1 Axes>"
            ]
          },
          "metadata": {
            "tags": [],
            "needs_background": "light"
          }
        }
      ]
    },
    {
      "cell_type": "code",
      "metadata": {
        "colab": {
          "base_uri": "https://localhost:8080/",
          "height": 555
        },
        "id": "5-yhy918uSHl",
        "outputId": "ed06b365-e4e8-460f-ce7a-75e0a95e089b"
      },
      "source": [
        "age_range_flg =patient_info [patient_info['Tumor_label'] != 0 ]['age_range'].value_counts()\n",
        "display(age_range_flg)\n",
        "a_l = ['30-40','40-50','50-60 ','60-70','70+']\n",
        "v_l = [5,6,19,14,16]\n",
        "fig, ax = plt.subplots(figsize = (9 , 6) , dpi=80,)\n",
        "ax.set_facecolor('#ffffff')\n",
        "ax.xaxis.label.set_color('#000000')\n",
        "ax.yaxis.label.set_color('#000000')\n",
        "ax.tick_params(axis='x', colors='#000000' )\n",
        "ax.tick_params(axis='y', colors='#000000')\n",
        "ax.spines['left'].set_color('#000000')        # setting up Y-axis tick color to red\n",
        "ax.spines['bottom'].set_color('#000000')\n",
        "plt.bar(a_l , v_l , color=['#ff6600', '#1976D2' , '#7B1FA2','#1D8348', '#C0CA33','#1f77b4', '#d62728', 'lightcoral','#7f7f7f'])\n",
        "plt.xlabel('Range')\n",
        "plt.ylabel('Frequncy')\n",
        "plt.title('Age For Tumor Patients')\n",
        "plt.show()"
      ],
      "execution_count": null,
      "outputs": [
        {
          "output_type": "display_data",
          "data": {
            "text/plain": [
              "50-60    19\n",
              "80+      16\n",
              "60-70    14\n",
              "40-50     6\n",
              "30-40     5\n",
              "Name: age_range, dtype: int64"
            ]
          },
          "metadata": {
            "tags": []
          }
        },
        {
          "output_type": "display_data",
          "data": {
            "image/png": "[encoded data removed]",
            "text/plain": [
              "<Figure size 720x480 with 1 Axes>"
            ]
          },
          "metadata": {
            "tags": [],
            "needs_background": "light"
          }
        }
      ]
    },
    {
      "cell_type": "code",
      "metadata": {
        "colab": {
          "base_uri": "https://localhost:8080/",
          "height": 555
        },
        "id": "g481VazUumat",
        "outputId": "944af87c-3b41-44b5-da5e-2e8477b5f5ad"
      },
      "source": [
        "age_range_flg =patient_info [patient_info['Tumor_label'] == 0 ]['age_range'].value_counts()\n",
        "display(age_range_flg)\n",
        "a_l = ['30-40','40-50','50-60 ','60-70','70+']\n",
        "v_l = [8,15,40,26,27]\n",
        "fig, ax = plt.subplots(figsize = (9 , 6) , dpi=80,)\n",
        "ax.set_facecolor('#ffffff')\n",
        "ax.xaxis.label.set_color('#000000')\n",
        "ax.yaxis.label.set_color('#000000')\n",
        "ax.tick_params(axis='x', colors='#000000' )\n",
        "ax.tick_params(axis='y', colors='#000000')\n",
        "ax.spines['left'].set_color('#000000')        # setting up Y-axis tick color to red\n",
        "ax.spines['bottom'].set_color('#000000')\n",
        "plt.bar(a_l , v_l , color=['#ff6600', '#1976D2' , '#7B1FA2','#1D8348', '#C0CA33','#1f77b4', '#d62728', 'lightcoral','#7f7f7f'])\n",
        "plt.xlabel('Range')\n",
        "plt.ylabel('Frequncy')\n",
        "plt.title('Age For Normal Case')\n",
        "plt.show()\n",
        "del age_range_flg"
      ],
      "execution_count": null,
      "outputs": [
        {
          "output_type": "display_data",
          "data": {
            "text/plain": [
              "50-60    21\n",
              "60-70    12\n",
              "80+      11\n",
              "40-50     9\n",
              "30-40     3\n",
              "Name: age_range, dtype: int64"
            ]
          },
          "metadata": {
            "tags": []
          }
        },
        {
          "output_type": "display_data",
          "data": {
            "image/png": "[encoded data removed]",
            "text/plain": [
              "<Figure size 720x480 with 1 Axes>"
            ]
          },
          "metadata": {
            "tags": [],
            "needs_background": "light"
          }
        }
      ]
    },
    {
      "cell_type": "code",
      "metadata": {
        "colab": {
          "base_uri": "https://localhost:8080/"
        },
        "id": "M211QnfSwWyP",
        "outputId": "91557cca-b998-4986-a0e9-831831537b9a"
      },
      "source": [
        "patient_info [patient_info['Tumor_label'] != 'Uninfected' ].info()"
      ],
      "execution_count": null,
      "outputs": [
        {
          "output_type": "stream",
          "text": [
            "<class 'pandas.core.frame.DataFrame'>\n",
            "Int64Index: 120 entries, 0 to 119\n",
            "Data columns (total 21 columns):\n",
            " #   Column                           Non-Null Count  Dtype   \n",
            "---  ------                           --------------  -----   \n",
            " 0   Patient_ID                       120 non-null    object  \n",
            " 1   Patient_Num                      120 non-null    int64   \n",
            " 2   Age                              120 non-null    int64   \n",
            " 3   Gender                           120 non-null    object  \n",
            " 4   Date                             120 non-null    int64   \n",
            " 5   Taking_Contrast                  120 non-null    object  \n",
            " 6   Clinical_data                    120 non-null    object  \n",
            " 7   Symptoms                         120 non-null    object  \n",
            " 8   Diagnosing_test                  120 non-null    object  \n",
            " 9   Diagnosing_Right_Kidney          120 non-null    object  \n",
            " 10  Injure_range_Right_K_in_Details  120 non-null    object  \n",
            " 11  Segmentation_Right               120 non-null    object  \n",
            " 12  Diagnosing_Left_Kidney           120 non-null    object  \n",
            " 13  Injure_range_Left_K_in_Details   120 non-null    object  \n",
            " 14  Segmentation_Left                120 non-null    object  \n",
            " 15  Stage                            120 non-null    object  \n",
            " 16  Situation                        120 non-null    object  \n",
            " 17  Tumor_Type                       120 non-null    object  \n",
            " 18  Tumor_Class                      120 non-null    object  \n",
            " 19  Tumor_label                      120 non-null    int64   \n",
            " 20  age_range                        116 non-null    category\n",
            "dtypes: category(1), int64(4), object(16)\n",
            "memory usage: 20.0+ KB\n"
          ],
          "name": "stdout"
        }
      ]
    },
    {
      "cell_type": "code",
      "metadata": {
        "colab": {
          "base_uri": "https://localhost:8080/",
          "height": 504
        },
        "id": "Y0jgBDW-wrZI",
        "outputId": "6f4cf16b-b5e8-4a4f-8a5e-57086fbba7e7"
      },
      "source": [
        "Date_flg = patient_info[ patient_info['Tumor_label']== 0 ]['Gender'].value_counts()\n",
        "display(Date_flg)\n",
        "fig, ax = plt.subplots(figsize = (9 , 6) , dpi=80,)\n",
        "ax.set_facecolor('#ffffff')\n",
        "ax.xaxis.label.set_color('#000000')\n",
        "ax.yaxis.label.set_color('#000000')\n",
        "ax.tick_params(axis='x', colors='#000000' )\n",
        "ax.tick_params(axis='y', colors='#000000')\n",
        "ax.spines['left'].set_color('#000000')        # setting up Y-axis tick color to red\n",
        "ax.spines['bottom'].set_color('#000000')\n",
        "plt.bar( Date_flg.index , Date_flg ,width = 0.7,  color=['#1976D2' ,'#ff6600'] ,  align='center' , zorder=1)\n",
        "plt.xlabel('Gender')\n",
        "plt.ylabel('Count')\n",
        "plt.title('Gender For Normal Case')\n",
        "plt.show()"
      ],
      "execution_count": null,
      "outputs": [
        {
          "output_type": "display_data",
          "data": {
            "text/plain": [
              "Female    33\n",
              "Male      27\n",
              "Name: Gender, dtype: int64"
            ]
          },
          "metadata": {
            "tags": []
          }
        },
        {
          "output_type": "display_data",
          "data": {
            "image/png": "[encoded data removed]",
            "text/plain": [
              "<Figure size 720x480 with 1 Axes>"
            ]
          },
          "metadata": {
            "tags": [],
            "needs_background": "light"
          }
        }
      ]
    },
    {
      "cell_type": "code",
      "metadata": {
        "colab": {
          "base_uri": "https://localhost:8080/",
          "height": 504
        },
        "id": "_Ab2Zfn_vxLv",
        "outputId": "79ae1126-a8f9-421a-9b78-b16cc0e63911"
      },
      "source": [
        "Date_flg = patient_info [patient_info['Tumor_label'] != 0 ]['Gender'].value_counts()\n",
        "display(Date_flg)\n",
        "fig, ax = plt.subplots(figsize = (9 , 6) , dpi=80,)\n",
        "ax.set_facecolor('#ffffff')\n",
        "ax.xaxis.label.set_color('#000000')\n",
        "ax.yaxis.label.set_color('#000000')\n",
        "ax.tick_params(axis='x', colors='#000000' )\n",
        "ax.tick_params(axis='y', colors='#000000')\n",
        "ax.spines['left'].set_color('#000000')        # setting up Y-axis tick color to red\n",
        "ax.spines['bottom'].set_color('#000000')\n",
        "plt.bar( Date_flg.index , Date_flg ,width = 0.7,  color=[  '#1976D2' , '#ff6600',] ,  align='center' , zorder=1)\n",
        "plt.xlabel('Gender')\n",
        "plt.ylabel('Count')\n",
        "plt.title('Gender For Tumor Patients')\n",
        "plt.show()"
      ],
      "execution_count": null,
      "outputs": [
        {
          "output_type": "display_data",
          "data": {
            "text/plain": [
              "Male      38\n",
              "Female    22\n",
              "Name: Gender, dtype: int64"
            ]
          },
          "metadata": {
            "tags": []
          }
        },
        {
          "output_type": "display_data",
          "data": {
            "image/png": "[encoded data removed]",
            "text/plain": [
              "<Figure size 720x480 with 1 Axes>"
            ]
          },
          "metadata": {
            "tags": [],
            "needs_background": "light"
          }
        }
      ]
    },
    {
      "cell_type": "code",
      "metadata": {
        "colab": {
          "base_uri": "https://localhost:8080/",
          "height": 344
        },
        "id": "KiikHjeW2RKn",
        "outputId": "d8b6f199-a796-42b3-be30-a3d2a1aa0675"
      },
      "source": [
        "# Pie chart\n",
        "labels =patient_info [patient_info['Tumor_label'] == 0 ]['Taking_Contrast'].value_counts().index\n",
        "sizes = patient_info [patient_info['Tumor_label'] == 0 ]['Taking_Contrast'].value_counts()\n",
        "display(sizes)\n",
        "# only \"explode\" the 2nd slice (i.e. 'Hogs')\n",
        "explode = patient_info['Taking_Contrast'].value_counts()\n",
        "colors = ['#1976D2','#ff6600']\n",
        "fig1, ax1 = plt.subplots()\n",
        "ax1.pie(sizes, labels=labels, autopct='%1.1f%%',colors=colors ,\n",
        "        shadow=True, startangle=90,\n",
        "        wedgeprops= {\"edgecolor\":\"black\",\n",
        "                     'linewidth': 0.5,\n",
        "                     'antialiased': True} , explode = (0.1, 0) )\n",
        "\n",
        "# Equal aspect ratio ensures that pie is drawn as a circle\n",
        "ax1.axis('equal')\n",
        "plt.title('Taking Contrast For Normal Case')\n",
        "plt.tight_layout()\n",
        "plt.show()"
      ],
      "execution_count": null,
      "outputs": [
        {
          "output_type": "display_data",
          "data": {
            "text/plain": [
              "Yes    35\n",
              "No     25\n",
              "Name: Taking_Contrast, dtype: int64"
            ]
          },
          "metadata": {
            "tags": []
          }
        },
        {
          "output_type": "display_data",
          "data": {
            "image/png": "[encoded data removed]",
            "text/plain": [
              "<Figure size 432x288 with 1 Axes>"
            ]
          },
          "metadata": {
            "tags": []
          }
        }
      ]
    },
    {
      "cell_type": "code",
      "metadata": {
        "colab": {
          "base_uri": "https://localhost:8080/",
          "height": 344
        },
        "id": "1QknOOvw5hB7",
        "outputId": "2698bcef-4082-40ec-eac3-cb980f1389dc"
      },
      "source": [
        "# Pie chart\n",
        "Taking_Contrast =  patient_info [patient_info['Tumor_label'] != 0 ]['Taking_Contrast'].value_counts()\n",
        "labels =Taking_Contrast.index\n",
        "sizes = Taking_Contrast\n",
        "display(sizes)\n",
        "# only \"explode\" the 2nd slice (i.e. 'Hogs')\n",
        "explode = Taking_Contrast\n",
        "colors = ['#1976D2', '#ff6600']\n",
        "fig1, ax1 = plt.subplots()\n",
        "ax1.pie(sizes, labels=labels, autopct='%1.1f%%',colors=colors ,\n",
        "        shadow=True, startangle=90,\n",
        "        wedgeprops= {\"edgecolor\":\"black\",\n",
        "                     'linewidth': 0.5,\n",
        "                     'antialiased': True} , explode = (0.1, 0) )\n",
        "\n",
        "# Equal aspect ratio ensures that pie is drawn as a circle\n",
        "ax1.axis('equal')\n",
        "plt.title('Taking Contrast For Tumor Patients')\n",
        "plt.tight_layout()\n",
        "plt.show()"
      ],
      "execution_count": null,
      "outputs": [
        {
          "output_type": "display_data",
          "data": {
            "text/plain": [
              "Yes    38\n",
              "No     22\n",
              "Name: Taking_Contrast, dtype: int64"
            ]
          },
          "metadata": {
            "tags": []
          }
        },
        {
          "output_type": "display_data",
          "data": {
            "image/png": "[encoded data removed]",
            "text/plain": [
              "<Figure size 432x288 with 1 Axes>"
            ]
          },
          "metadata": {
            "tags": []
          }
        }
      ]
    },
    {
      "cell_type": "code",
      "metadata": {
        "colab": {
          "base_uri": "https://localhost:8080/",
          "height": 555
        },
        "id": "9M3tzEAj7K-y",
        "outputId": "625c6d17-4e88-4638-e41e-085bf0915309"
      },
      "source": [
        "Date_flg = patient_info['Tumor_Class'].value_counts()\n",
        "del Date_flg['Uninfected']\n",
        "display(Date_flg)\n",
        "fig, ax = plt.subplots(figsize = (9 , 6) , dpi=80,)\n",
        "ax.set_facecolor('#ffffff')\n",
        "ax.xaxis.label.set_color('#000000')\n",
        "ax.yaxis.label.set_color('#000000')\n",
        "ax.tick_params(axis='x', colors='#000000' )\n",
        "ax.tick_params(axis='y', colors='#000000')\n",
        "ax.spines['left'].set_color('#000000')        # setting up Y-axis tick color to red\n",
        "ax.spines['bottom'].set_color('#000000')\n",
        "colors = ['#ff6600', '#1976D2' , '#7B1FA2','#1D8348', '#C0CA33','#1f77b4', '#d62728', 'lightcoral','#7f7f7f']\n",
        "plt.bar( Date_flg.index , Date_flg ,width = 0.7,  color=colors , align='center' , zorder=1)\n",
        "plt.xlabel('Class')\n",
        "plt.ylabel('Count')\n",
        "plt.title('Tumor Class')\n",
        "plt.show()"
      ],
      "execution_count": null,
      "outputs": [
        {
          "output_type": "display_data",
          "data": {
            "text/plain": [
              "Adenoma           28\n",
              "RCC               11\n",
              "Secondary         11\n",
              "Angiomyolipoma     9\n",
              "Lipomas            1\n",
              "Name: Tumor_Class, dtype: int64"
            ]
          },
          "metadata": {
            "tags": []
          }
        },
        {
          "output_type": "display_data",
          "data": {
            "image/png": "[encoded data removed]",
            "text/plain": [
              "<Figure size 720x480 with 1 Axes>"
            ]
          },
          "metadata": {
            "tags": [],
            "needs_background": "light"
          }
        }
      ]
    },
    {
      "cell_type": "code",
      "metadata": {
        "colab": {
          "base_uri": "https://localhost:8080/",
          "height": 235
        },
        "id": "_g1Th9nD7n2z",
        "outputId": "e9e44686-7842-4990-cdfb-4a5481b2ef12"
      },
      "source": [
        "Tumor_Class_with_gender_female= patient_info [patient_info['Gender']== \"Female\"]\n",
        "Tumor_Class_with_gender_female = Tumor_Class_with_gender_female.groupby(['Tumor_Class'])\n",
        "Tumor_Class_with_gender_female = Tumor_Class_with_gender_female['Patient_Num'].describe()\n",
        "Tumor_Class_with_gender_female = Tumor_Class_with_gender_female[['count']]\n",
        "Tumor_Class_with_gender_female"
      ],
      "execution_count": null,
      "outputs": [
        {
          "output_type": "execute_result",
          "data": {
            "text/html": [
              "<div>\n",
              "<style scoped>\n",
              "    .dataframe tbody tr th:only-of-type {\n",
              "        vertical-align: middle;\n",
              "    }\n",
              "\n",
              "    .dataframe tbody tr th {\n",
              "        vertical-align: top;\n",
              "    }\n",
              "\n",
              "    .dataframe thead th {\n",
              "        text-align: right;\n",
              "    }\n",
              "</style>\n",
              "<table border=\"1\" class=\"dataframe\">\n",
              "  <thead>\n",
              "    <tr style=\"text-align: right;\">\n",
              "      <th></th>\n",
              "      <th>count</th>\n",
              "    </tr>\n",
              "    <tr>\n",
              "      <th>Tumor_Class</th>\n",
              "      <th></th>\n",
              "    </tr>\n",
              "  </thead>\n",
              "  <tbody>\n",
              "    <tr>\n",
              "      <th>Adenoma</th>\n",
              "      <td>9.0</td>\n",
              "    </tr>\n",
              "    <tr>\n",
              "      <th>Angiomyolipoma</th>\n",
              "      <td>7.0</td>\n",
              "    </tr>\n",
              "    <tr>\n",
              "      <th>RCC</th>\n",
              "      <td>1.0</td>\n",
              "    </tr>\n",
              "    <tr>\n",
              "      <th>Secondary</th>\n",
              "      <td>5.0</td>\n",
              "    </tr>\n",
              "    <tr>\n",
              "      <th>Uninfected</th>\n",
              "      <td>33.0</td>\n",
              "    </tr>\n",
              "  </tbody>\n",
              "</table>\n",
              "</div>"
            ],
            "text/plain": [
              "                count\n",
              "Tumor_Class          \n",
              "Adenoma           9.0\n",
              "Angiomyolipoma    7.0\n",
              "RCC               1.0\n",
              "Secondary         5.0\n",
              "Uninfected       33.0"
            ]
          },
          "metadata": {
            "tags": []
          },
          "execution_count": 65
        }
      ]
    },
    {
      "cell_type": "code",
      "metadata": {
        "colab": {
          "base_uri": "https://localhost:8080/",
          "height": 266
        },
        "id": "pjvEJfCm8qSf",
        "outputId": "c27185ea-c724-46e3-fecb-3115508fb912"
      },
      "source": [
        "Tumor_Class_with_gender_male= patient_info [patient_info['Gender']== \"Male\"]\n",
        "Tumor_Class_with_gender_male = Tumor_Class_with_gender_male.groupby(['Tumor_Class'])\n",
        "Tumor_Class_with_gender_male = Tumor_Class_with_gender_male['Patient_Num'].describe()\n",
        "Tumor_Class_with_gender_male"
      ],
      "execution_count": null,
      "outputs": [
        {
          "output_type": "execute_result",
          "data": {
            "text/html": [
              "<div>\n",
              "<style scoped>\n",
              "    .dataframe tbody tr th:only-of-type {\n",
              "        vertical-align: middle;\n",
              "    }\n",
              "\n",
              "    .dataframe tbody tr th {\n",
              "        vertical-align: top;\n",
              "    }\n",
              "\n",
              "    .dataframe thead th {\n",
              "        text-align: right;\n",
              "    }\n",
              "</style>\n",
              "<table border=\"1\" class=\"dataframe\">\n",
              "  <thead>\n",
              "    <tr style=\"text-align: right;\">\n",
              "      <th></th>\n",
              "      <th>count</th>\n",
              "      <th>mean</th>\n",
              "      <th>std</th>\n",
              "      <th>min</th>\n",
              "      <th>25%</th>\n",
              "      <th>50%</th>\n",
              "      <th>75%</th>\n",
              "      <th>max</th>\n",
              "    </tr>\n",
              "    <tr>\n",
              "      <th>Tumor_Class</th>\n",
              "      <th></th>\n",
              "      <th></th>\n",
              "      <th></th>\n",
              "      <th></th>\n",
              "      <th></th>\n",
              "      <th></th>\n",
              "      <th></th>\n",
              "      <th></th>\n",
              "    </tr>\n",
              "  </thead>\n",
              "  <tbody>\n",
              "    <tr>\n",
              "      <th>Adenoma</th>\n",
              "      <td>19.0</td>\n",
              "      <td>12.842105</td>\n",
              "      <td>8.460780</td>\n",
              "      <td>1.0</td>\n",
              "      <td>5.50</td>\n",
              "      <td>11.0</td>\n",
              "      <td>19.50</td>\n",
              "      <td>28.0</td>\n",
              "    </tr>\n",
              "    <tr>\n",
              "      <th>Angiomyolipoma</th>\n",
              "      <td>2.0</td>\n",
              "      <td>31.500000</td>\n",
              "      <td>2.121320</td>\n",
              "      <td>30.0</td>\n",
              "      <td>30.75</td>\n",
              "      <td>31.5</td>\n",
              "      <td>32.25</td>\n",
              "      <td>33.0</td>\n",
              "    </tr>\n",
              "    <tr>\n",
              "      <th>Lipomas</th>\n",
              "      <td>1.0</td>\n",
              "      <td>38.000000</td>\n",
              "      <td>NaN</td>\n",
              "      <td>38.0</td>\n",
              "      <td>38.00</td>\n",
              "      <td>38.0</td>\n",
              "      <td>38.00</td>\n",
              "      <td>38.0</td>\n",
              "    </tr>\n",
              "    <tr>\n",
              "      <th>RCC</th>\n",
              "      <td>10.0</td>\n",
              "      <td>43.700000</td>\n",
              "      <td>3.335000</td>\n",
              "      <td>39.0</td>\n",
              "      <td>41.25</td>\n",
              "      <td>43.5</td>\n",
              "      <td>45.75</td>\n",
              "      <td>49.0</td>\n",
              "    </tr>\n",
              "    <tr>\n",
              "      <th>Secondary</th>\n",
              "      <td>6.0</td>\n",
              "      <td>55.833333</td>\n",
              "      <td>4.020779</td>\n",
              "      <td>50.0</td>\n",
              "      <td>53.00</td>\n",
              "      <td>57.0</td>\n",
              "      <td>58.75</td>\n",
              "      <td>60.0</td>\n",
              "    </tr>\n",
              "    <tr>\n",
              "      <th>Uninfected</th>\n",
              "      <td>27.0</td>\n",
              "      <td>93.740741</td>\n",
              "      <td>16.736861</td>\n",
              "      <td>63.0</td>\n",
              "      <td>81.50</td>\n",
              "      <td>97.0</td>\n",
              "      <td>108.50</td>\n",
              "      <td>117.0</td>\n",
              "    </tr>\n",
              "  </tbody>\n",
              "</table>\n",
              "</div>"
            ],
            "text/plain": [
              "                count       mean        std   min    25%   50%     75%    max\n",
              "Tumor_Class                                                                  \n",
              "Adenoma          19.0  12.842105   8.460780   1.0   5.50  11.0   19.50   28.0\n",
              "Angiomyolipoma    2.0  31.500000   2.121320  30.0  30.75  31.5   32.25   33.0\n",
              "Lipomas           1.0  38.000000        NaN  38.0  38.00  38.0   38.00   38.0\n",
              "RCC              10.0  43.700000   3.335000  39.0  41.25  43.5   45.75   49.0\n",
              "Secondary         6.0  55.833333   4.020779  50.0  53.00  57.0   58.75   60.0\n",
              "Uninfected       27.0  93.740741  16.736861  63.0  81.50  97.0  108.50  117.0"
            ]
          },
          "metadata": {
            "tags": []
          },
          "execution_count": 66
        }
      ]
    },
    {
      "cell_type": "code",
      "metadata": {
        "colab": {
          "base_uri": "https://localhost:8080/",
          "height": 235
        },
        "id": "xoCUmHB38Mly",
        "outputId": "2e4ff65e-a317-44e7-f303-d1312a2c3b80"
      },
      "source": [
        "Situation_with_gender = patient_info['Situation'].value_counts()\n",
        "means = pd.DataFrame()\n",
        "means['Male']= Tumor_Class_with_gender_male['count']\n",
        "means['Female'] = [9.0 , 7.0 , 0 , 1.0 , 5.0 , 33.0]\n",
        "\n",
        "means['Tumor_Class']=Tumor_Class_with_gender_male.index\n",
        "means = means.set_index('Tumor_Class')\n",
        "means = means.drop(['Uninfected'])\n",
        "display(means)\n"
      ],
      "execution_count": null,
      "outputs": [
        {
          "output_type": "display_data",
          "data": {
            "text/html": [
              "<div>\n",
              "<style scoped>\n",
              "    .dataframe tbody tr th:only-of-type {\n",
              "        vertical-align: middle;\n",
              "    }\n",
              "\n",
              "    .dataframe tbody tr th {\n",
              "        vertical-align: top;\n",
              "    }\n",
              "\n",
              "    .dataframe thead th {\n",
              "        text-align: right;\n",
              "    }\n",
              "</style>\n",
              "<table border=\"1\" class=\"dataframe\">\n",
              "  <thead>\n",
              "    <tr style=\"text-align: right;\">\n",
              "      <th></th>\n",
              "      <th>Male</th>\n",
              "      <th>Female</th>\n",
              "    </tr>\n",
              "    <tr>\n",
              "      <th>Tumor_Class</th>\n",
              "      <th></th>\n",
              "      <th></th>\n",
              "    </tr>\n",
              "  </thead>\n",
              "  <tbody>\n",
              "    <tr>\n",
              "      <th>Adenoma</th>\n",
              "      <td>19.0</td>\n",
              "      <td>9.0</td>\n",
              "    </tr>\n",
              "    <tr>\n",
              "      <th>Angiomyolipoma</th>\n",
              "      <td>2.0</td>\n",
              "      <td>7.0</td>\n",
              "    </tr>\n",
              "    <tr>\n",
              "      <th>Lipomas</th>\n",
              "      <td>1.0</td>\n",
              "      <td>0.0</td>\n",
              "    </tr>\n",
              "    <tr>\n",
              "      <th>RCC</th>\n",
              "      <td>10.0</td>\n",
              "      <td>1.0</td>\n",
              "    </tr>\n",
              "    <tr>\n",
              "      <th>Secondary</th>\n",
              "      <td>6.0</td>\n",
              "      <td>5.0</td>\n",
              "    </tr>\n",
              "  </tbody>\n",
              "</table>\n",
              "</div>"
            ],
            "text/plain": [
              "                Male  Female\n",
              "Tumor_Class                 \n",
              "Adenoma         19.0     9.0\n",
              "Angiomyolipoma   2.0     7.0\n",
              "Lipomas          1.0     0.0\n",
              "RCC             10.0     1.0\n",
              "Secondary        6.0     5.0"
            ]
          },
          "metadata": {
            "tags": []
          }
        }
      ]
    },
    {
      "cell_type": "markdown",
      "metadata": {
        "id": "93P1Fql2AVey"
      },
      "source": []
    },
    {
      "cell_type": "code",
      "metadata": {
        "colab": {
          "base_uri": "https://localhost:8080/",
          "height": 307
        },
        "id": "SSGMkqth7gLg",
        "outputId": "098a1225-8451-4a51-9c46-f74fab185aec"
      },
      "source": [
        "\n",
        "fig, ax = plt.subplots(figsize = (9 , 4))\n",
        "plt.xlabel('Number of Users')\n",
        "plt.title('Tumor Classes With Gender')\n",
        "colors = ['#ff6600', '#1976D2' , '#7B1FA2','#1D8348', '#C0CA33','#1f77b4', '#d62728', 'lightcoral','#7f7f7f']\n",
        "z = means.plot.bar(ax=ax, capsize=6, rot=360 ,legend='upper', color=[  '#1976D2','#ff6600'])\n",
        "ax.set_facecolor('#ffffff')\n",
        "ax.xaxis.label.set_color('#000000')\n",
        "ax.yaxis.label.set_color('#000000')\n",
        "ax.tick_params(axis='x', colors='#000000')\n",
        "ax.tick_params(axis='y', colors='#000000')\n",
        "ax.spines['left'].set_color('#000000')        # setting up Y-axis tick color to red\n",
        "ax.spines['bottom'].set_color('#000000')\n",
        "ax.tick_params(axis='y', pad=0)\n",
        "ax.legend()\n",
        "plt.legend(loc='upper right')\n",
        "plt.xlabel(\"Classes\", labelpad=10)\n",
        "plt.ylabel(\"Count\", labelpad=10)\n",
        "plt.show()"
      ],
      "execution_count": null,
      "outputs": [
        {
          "output_type": "display_data",
          "data": {
            "image/png": "[encoded data removed]",
            "text/plain": [
              "<Figure size 648x288 with 1 Axes>"
            ]
          },
          "metadata": {
            "tags": [],
            "needs_background": "light"
          }
        }
      ]
    },
    {
      "cell_type": "code",
      "metadata": {
        "colab": {
          "base_uri": "https://localhost:8080/",
          "height": 441
        },
        "id": "wIh3UAALmGBN",
        "outputId": "050fd9b2-c136-4c9c-a88c-b33cf8d73751"
      },
      "source": [
        "Tumor_Class_with_gender_I= patient_info [patient_info['Stage']== \"I\"]\n",
        "Tumor_Class_with_gender_I = patient_info.groupby(['Tumor_Class' , 'Stage'])\n",
        "Tumor_Class_with_gender_I.describe()"
      ],
      "execution_count": null,
      "outputs": [
        {
          "output_type": "execute_result",
          "data": {
            "text/html": [
              "<div>\n",
              "<style scoped>\n",
              "    .dataframe tbody tr th:only-of-type {\n",
              "        vertical-align: middle;\n",
              "    }\n",
              "\n",
              "    .dataframe tbody tr th {\n",
              "        vertical-align: top;\n",
              "    }\n",
              "\n",
              "    .dataframe thead tr th {\n",
              "        text-align: left;\n",
              "    }\n",
              "\n",
              "    .dataframe thead tr:last-of-type th {\n",
              "        text-align: right;\n",
              "    }\n",
              "</style>\n",
              "<table border=\"1\" class=\"dataframe\">\n",
              "  <thead>\n",
              "    <tr>\n",
              "      <th></th>\n",
              "      <th></th>\n",
              "      <th colspan=\"8\" halign=\"left\">Patient_Num</th>\n",
              "      <th colspan=\"8\" halign=\"left\">Age</th>\n",
              "      <th colspan=\"8\" halign=\"left\">Date</th>\n",
              "      <th colspan=\"8\" halign=\"left\">Tumor_label</th>\n",
              "    </tr>\n",
              "    <tr>\n",
              "      <th></th>\n",
              "      <th></th>\n",
              "      <th>count</th>\n",
              "      <th>mean</th>\n",
              "      <th>std</th>\n",
              "      <th>min</th>\n",
              "      <th>25%</th>\n",
              "      <th>50%</th>\n",
              "      <th>75%</th>\n",
              "      <th>max</th>\n",
              "      <th>count</th>\n",
              "      <th>mean</th>\n",
              "      <th>std</th>\n",
              "      <th>min</th>\n",
              "      <th>25%</th>\n",
              "      <th>50%</th>\n",
              "      <th>75%</th>\n",
              "      <th>max</th>\n",
              "      <th>count</th>\n",
              "      <th>mean</th>\n",
              "      <th>std</th>\n",
              "      <th>min</th>\n",
              "      <th>25%</th>\n",
              "      <th>50%</th>\n",
              "      <th>75%</th>\n",
              "      <th>max</th>\n",
              "      <th>count</th>\n",
              "      <th>mean</th>\n",
              "      <th>std</th>\n",
              "      <th>min</th>\n",
              "      <th>25%</th>\n",
              "      <th>50%</th>\n",
              "      <th>75%</th>\n",
              "      <th>max</th>\n",
              "    </tr>\n",
              "    <tr>\n",
              "      <th>Tumor_Class</th>\n",
              "      <th>Stage</th>\n",
              "      <th></th>\n",
              "      <th></th>\n",
              "      <th></th>\n",
              "      <th></th>\n",
              "      <th></th>\n",
              "      <th></th>\n",
              "      <th></th>\n",
              "      <th></th>\n",
              "      <th></th>\n",
              "      <th></th>\n",
              "      <th></th>\n",
              "      <th></th>\n",
              "      <th></th>\n",
              "      <th></th>\n",
              "      <th></th>\n",
              "      <th></th>\n",
              "      <th></th>\n",
              "      <th></th>\n",
              "      <th></th>\n",
              "      <th></th>\n",
              "      <th></th>\n",
              "      <th></th>\n",
              "      <th></th>\n",
              "      <th></th>\n",
              "      <th></th>\n",
              "      <th></th>\n",
              "      <th></th>\n",
              "      <th></th>\n",
              "      <th></th>\n",
              "      <th></th>\n",
              "      <th></th>\n",
              "      <th></th>\n",
              "    </tr>\n",
              "  </thead>\n",
              "  <tbody>\n",
              "    <tr>\n",
              "      <th>Adenoma</th>\n",
              "      <th>I</th>\n",
              "      <td>28.0</td>\n",
              "      <td>14.500000</td>\n",
              "      <td>8.225975</td>\n",
              "      <td>1.0</td>\n",
              "      <td>7.75</td>\n",
              "      <td>14.5</td>\n",
              "      <td>21.25</td>\n",
              "      <td>28.0</td>\n",
              "      <td>28.0</td>\n",
              "      <td>60.464286</td>\n",
              "      <td>10.675282</td>\n",
              "      <td>33.0</td>\n",
              "      <td>54.00</td>\n",
              "      <td>59.5</td>\n",
              "      <td>67.25</td>\n",
              "      <td>80.0</td>\n",
              "      <td>28.0</td>\n",
              "      <td>2020.250000</td>\n",
              "      <td>0.440959</td>\n",
              "      <td>2020.0</td>\n",
              "      <td>2020.0</td>\n",
              "      <td>2020.0</td>\n",
              "      <td>2020.25</td>\n",
              "      <td>2021.0</td>\n",
              "      <td>28.0</td>\n",
              "      <td>1.0</td>\n",
              "      <td>0.0</td>\n",
              "      <td>1.0</td>\n",
              "      <td>1.0</td>\n",
              "      <td>1.0</td>\n",
              "      <td>1.0</td>\n",
              "      <td>1.0</td>\n",
              "    </tr>\n",
              "    <tr>\n",
              "      <th>Angiomyolipoma</th>\n",
              "      <th>I</th>\n",
              "      <td>9.0</td>\n",
              "      <td>33.000000</td>\n",
              "      <td>2.738613</td>\n",
              "      <td>29.0</td>\n",
              "      <td>31.00</td>\n",
              "      <td>33.0</td>\n",
              "      <td>35.00</td>\n",
              "      <td>37.0</td>\n",
              "      <td>9.0</td>\n",
              "      <td>57.000000</td>\n",
              "      <td>16.605722</td>\n",
              "      <td>32.0</td>\n",
              "      <td>50.00</td>\n",
              "      <td>59.0</td>\n",
              "      <td>71.00</td>\n",
              "      <td>80.0</td>\n",
              "      <td>9.0</td>\n",
              "      <td>2020.222222</td>\n",
              "      <td>0.440959</td>\n",
              "      <td>2020.0</td>\n",
              "      <td>2020.0</td>\n",
              "      <td>2020.0</td>\n",
              "      <td>2020.00</td>\n",
              "      <td>2021.0</td>\n",
              "      <td>9.0</td>\n",
              "      <td>1.0</td>\n",
              "      <td>0.0</td>\n",
              "      <td>1.0</td>\n",
              "      <td>1.0</td>\n",
              "      <td>1.0</td>\n",
              "      <td>1.0</td>\n",
              "      <td>1.0</td>\n",
              "    </tr>\n",
              "    <tr>\n",
              "      <th>Lipomas</th>\n",
              "      <th>I</th>\n",
              "      <td>1.0</td>\n",
              "      <td>38.000000</td>\n",
              "      <td>NaN</td>\n",
              "      <td>38.0</td>\n",
              "      <td>38.00</td>\n",
              "      <td>38.0</td>\n",
              "      <td>38.00</td>\n",
              "      <td>38.0</td>\n",
              "      <td>1.0</td>\n",
              "      <td>51.000000</td>\n",
              "      <td>NaN</td>\n",
              "      <td>51.0</td>\n",
              "      <td>51.00</td>\n",
              "      <td>51.0</td>\n",
              "      <td>51.00</td>\n",
              "      <td>51.0</td>\n",
              "      <td>1.0</td>\n",
              "      <td>2020.000000</td>\n",
              "      <td>NaN</td>\n",
              "      <td>2020.0</td>\n",
              "      <td>2020.0</td>\n",
              "      <td>2020.0</td>\n",
              "      <td>2020.00</td>\n",
              "      <td>2020.0</td>\n",
              "      <td>1.0</td>\n",
              "      <td>1.0</td>\n",
              "      <td>NaN</td>\n",
              "      <td>1.0</td>\n",
              "      <td>1.0</td>\n",
              "      <td>1.0</td>\n",
              "      <td>1.0</td>\n",
              "      <td>1.0</td>\n",
              "    </tr>\n",
              "    <tr>\n",
              "      <th rowspan=\"3\" valign=\"top\">RCC</th>\n",
              "      <th>I</th>\n",
              "      <td>8.0</td>\n",
              "      <td>43.250000</td>\n",
              "      <td>3.615443</td>\n",
              "      <td>39.0</td>\n",
              "      <td>40.75</td>\n",
              "      <td>42.5</td>\n",
              "      <td>45.00</td>\n",
              "      <td>49.0</td>\n",
              "      <td>8.0</td>\n",
              "      <td>61.375000</td>\n",
              "      <td>15.674707</td>\n",
              "      <td>38.0</td>\n",
              "      <td>52.50</td>\n",
              "      <td>62.0</td>\n",
              "      <td>69.00</td>\n",
              "      <td>85.0</td>\n",
              "      <td>8.0</td>\n",
              "      <td>2020.500000</td>\n",
              "      <td>0.534522</td>\n",
              "      <td>2020.0</td>\n",
              "      <td>2020.0</td>\n",
              "      <td>2020.5</td>\n",
              "      <td>2021.00</td>\n",
              "      <td>2021.0</td>\n",
              "      <td>8.0</td>\n",
              "      <td>1.0</td>\n",
              "      <td>0.0</td>\n",
              "      <td>1.0</td>\n",
              "      <td>1.0</td>\n",
              "      <td>1.0</td>\n",
              "      <td>1.0</td>\n",
              "      <td>1.0</td>\n",
              "    </tr>\n",
              "    <tr>\n",
              "      <th>II</th>\n",
              "      <td>1.0</td>\n",
              "      <td>47.000000</td>\n",
              "      <td>NaN</td>\n",
              "      <td>47.0</td>\n",
              "      <td>47.00</td>\n",
              "      <td>47.0</td>\n",
              "      <td>47.00</td>\n",
              "      <td>47.0</td>\n",
              "      <td>1.0</td>\n",
              "      <td>80.000000</td>\n",
              "      <td>NaN</td>\n",
              "      <td>80.0</td>\n",
              "      <td>80.00</td>\n",
              "      <td>80.0</td>\n",
              "      <td>80.00</td>\n",
              "      <td>80.0</td>\n",
              "      <td>1.0</td>\n",
              "      <td>2020.000000</td>\n",
              "      <td>NaN</td>\n",
              "      <td>2020.0</td>\n",
              "      <td>2020.0</td>\n",
              "      <td>2020.0</td>\n",
              "      <td>2020.00</td>\n",
              "      <td>2020.0</td>\n",
              "      <td>1.0</td>\n",
              "      <td>1.0</td>\n",
              "      <td>NaN</td>\n",
              "      <td>1.0</td>\n",
              "      <td>1.0</td>\n",
              "      <td>1.0</td>\n",
              "      <td>1.0</td>\n",
              "      <td>1.0</td>\n",
              "    </tr>\n",
              "    <tr>\n",
              "      <th>III</th>\n",
              "      <td>2.0</td>\n",
              "      <td>45.500000</td>\n",
              "      <td>0.707107</td>\n",
              "      <td>45.0</td>\n",
              "      <td>45.25</td>\n",
              "      <td>45.5</td>\n",
              "      <td>45.75</td>\n",
              "      <td>46.0</td>\n",
              "      <td>2.0</td>\n",
              "      <td>73.000000</td>\n",
              "      <td>8.485281</td>\n",
              "      <td>67.0</td>\n",
              "      <td>70.00</td>\n",
              "      <td>73.0</td>\n",
              "      <td>76.00</td>\n",
              "      <td>79.0</td>\n",
              "      <td>2.0</td>\n",
              "      <td>2020.000000</td>\n",
              "      <td>0.000000</td>\n",
              "      <td>2020.0</td>\n",
              "      <td>2020.0</td>\n",
              "      <td>2020.0</td>\n",
              "      <td>2020.00</td>\n",
              "      <td>2020.0</td>\n",
              "      <td>2.0</td>\n",
              "      <td>1.0</td>\n",
              "      <td>0.0</td>\n",
              "      <td>1.0</td>\n",
              "      <td>1.0</td>\n",
              "      <td>1.0</td>\n",
              "      <td>1.0</td>\n",
              "      <td>1.0</td>\n",
              "    </tr>\n",
              "    <tr>\n",
              "      <th rowspan=\"3\" valign=\"top\">Secondary</th>\n",
              "      <th>I</th>\n",
              "      <td>9.0</td>\n",
              "      <td>54.111111</td>\n",
              "      <td>2.934469</td>\n",
              "      <td>50.0</td>\n",
              "      <td>52.00</td>\n",
              "      <td>54.0</td>\n",
              "      <td>56.00</td>\n",
              "      <td>59.0</td>\n",
              "      <td>9.0</td>\n",
              "      <td>59.444444</td>\n",
              "      <td>12.875472</td>\n",
              "      <td>40.0</td>\n",
              "      <td>47.00</td>\n",
              "      <td>64.0</td>\n",
              "      <td>71.00</td>\n",
              "      <td>76.0</td>\n",
              "      <td>9.0</td>\n",
              "      <td>2020.222222</td>\n",
              "      <td>0.440959</td>\n",
              "      <td>2020.0</td>\n",
              "      <td>2020.0</td>\n",
              "      <td>2020.0</td>\n",
              "      <td>2020.00</td>\n",
              "      <td>2021.0</td>\n",
              "      <td>9.0</td>\n",
              "      <td>1.0</td>\n",
              "      <td>0.0</td>\n",
              "      <td>1.0</td>\n",
              "      <td>1.0</td>\n",
              "      <td>1.0</td>\n",
              "      <td>1.0</td>\n",
              "      <td>1.0</td>\n",
              "    </tr>\n",
              "    <tr>\n",
              "      <th>II</th>\n",
              "      <td>1.0</td>\n",
              "      <td>60.000000</td>\n",
              "      <td>NaN</td>\n",
              "      <td>60.0</td>\n",
              "      <td>60.00</td>\n",
              "      <td>60.0</td>\n",
              "      <td>60.00</td>\n",
              "      <td>60.0</td>\n",
              "      <td>1.0</td>\n",
              "      <td>74.000000</td>\n",
              "      <td>NaN</td>\n",
              "      <td>74.0</td>\n",
              "      <td>74.00</td>\n",
              "      <td>74.0</td>\n",
              "      <td>74.00</td>\n",
              "      <td>74.0</td>\n",
              "      <td>1.0</td>\n",
              "      <td>2021.000000</td>\n",
              "      <td>NaN</td>\n",
              "      <td>2021.0</td>\n",
              "      <td>2021.0</td>\n",
              "      <td>2021.0</td>\n",
              "      <td>2021.00</td>\n",
              "      <td>2021.0</td>\n",
              "      <td>1.0</td>\n",
              "      <td>1.0</td>\n",
              "      <td>NaN</td>\n",
              "      <td>1.0</td>\n",
              "      <td>1.0</td>\n",
              "      <td>1.0</td>\n",
              "      <td>1.0</td>\n",
              "      <td>1.0</td>\n",
              "    </tr>\n",
              "    <tr>\n",
              "      <th>IIII</th>\n",
              "      <td>1.0</td>\n",
              "      <td>58.000000</td>\n",
              "      <td>NaN</td>\n",
              "      <td>58.0</td>\n",
              "      <td>58.00</td>\n",
              "      <td>58.0</td>\n",
              "      <td>58.00</td>\n",
              "      <td>58.0</td>\n",
              "      <td>1.0</td>\n",
              "      <td>57.000000</td>\n",
              "      <td>NaN</td>\n",
              "      <td>57.0</td>\n",
              "      <td>57.00</td>\n",
              "      <td>57.0</td>\n",
              "      <td>57.00</td>\n",
              "      <td>57.0</td>\n",
              "      <td>1.0</td>\n",
              "      <td>2020.000000</td>\n",
              "      <td>NaN</td>\n",
              "      <td>2020.0</td>\n",
              "      <td>2020.0</td>\n",
              "      <td>2020.0</td>\n",
              "      <td>2020.00</td>\n",
              "      <td>2020.0</td>\n",
              "      <td>1.0</td>\n",
              "      <td>1.0</td>\n",
              "      <td>NaN</td>\n",
              "      <td>1.0</td>\n",
              "      <td>1.0</td>\n",
              "      <td>1.0</td>\n",
              "      <td>1.0</td>\n",
              "      <td>1.0</td>\n",
              "    </tr>\n",
              "    <tr>\n",
              "      <th>Uninfected</th>\n",
              "      <th>Null</th>\n",
              "      <td>60.0</td>\n",
              "      <td>90.500000</td>\n",
              "      <td>17.464249</td>\n",
              "      <td>61.0</td>\n",
              "      <td>75.75</td>\n",
              "      <td>90.5</td>\n",
              "      <td>105.25</td>\n",
              "      <td>120.0</td>\n",
              "      <td>60.0</td>\n",
              "      <td>57.500000</td>\n",
              "      <td>15.256563</td>\n",
              "      <td>20.0</td>\n",
              "      <td>48.75</td>\n",
              "      <td>57.0</td>\n",
              "      <td>68.25</td>\n",
              "      <td>88.0</td>\n",
              "      <td>60.0</td>\n",
              "      <td>2020.350000</td>\n",
              "      <td>0.480995</td>\n",
              "      <td>2020.0</td>\n",
              "      <td>2020.0</td>\n",
              "      <td>2020.0</td>\n",
              "      <td>2021.00</td>\n",
              "      <td>2021.0</td>\n",
              "      <td>60.0</td>\n",
              "      <td>0.0</td>\n",
              "      <td>0.0</td>\n",
              "      <td>0.0</td>\n",
              "      <td>0.0</td>\n",
              "      <td>0.0</td>\n",
              "      <td>0.0</td>\n",
              "      <td>0.0</td>\n",
              "    </tr>\n",
              "  </tbody>\n",
              "</table>\n",
              "</div>"
            ],
            "text/plain": [
              "                     Patient_Num                        ... Tumor_label          \n",
              "                           count       mean        std  ...         50%  75%  max\n",
              "Tumor_Class    Stage                                    ...                      \n",
              "Adenoma        I            28.0  14.500000   8.225975  ...         1.0  1.0  1.0\n",
              "Angiomyolipoma I             9.0  33.000000   2.738613  ...         1.0  1.0  1.0\n",
              "Lipomas        I             1.0  38.000000        NaN  ...         1.0  1.0  1.0\n",
              "RCC            I             8.0  43.250000   3.615443  ...         1.0  1.0  1.0\n",
              "               II            1.0  47.000000        NaN  ...         1.0  1.0  1.0\n",
              "               III           2.0  45.500000   0.707107  ...         1.0  1.0  1.0\n",
              "Secondary      I             9.0  54.111111   2.934469  ...         1.0  1.0  1.0\n",
              "               II            1.0  60.000000        NaN  ...         1.0  1.0  1.0\n",
              "               IIII          1.0  58.000000        NaN  ...         1.0  1.0  1.0\n",
              "Uninfected     Null         60.0  90.500000  17.464249  ...         0.0  0.0  0.0\n",
              "\n",
              "[10 rows x 32 columns]"
            ]
          },
          "metadata": {
            "tags": []
          },
          "execution_count": 118
        }
      ]
    },
    {
      "cell_type": "code",
      "metadata": {
        "id": "A4Zh3G4-lx_r"
      },
      "source": [
        "Tumor_Class_with_gender_I= patient_info [patient_info['Stage']== \"I\"]\n",
        "Tumor_Class_with_gender_I = Tumor_Class_with_gender_I.groupby(['Tumor_Class'])\n",
        "Tumor_Class_with_gender_I = Tumor_Class_with_gender_I['Patient_Num'].describe()\n",
        "Tumor_Class_with_gender_I = Tumor_Class_with_gender_I[['count']]\n",
        "Tumor_Class_with_gender_I"
      ],
      "execution_count": null,
      "outputs": []
    },
    {
      "cell_type": "code",
      "metadata": {
        "id": "tOQ4dfh4lx7l"
      },
      "source": [
        "Tumor_Class_with_gender_male= patient_info [patient_info['Gender']== \"Male\"]\n",
        "Tumor_Class_with_gender_male = Tumor_Class_with_gender_male.groupby(['Tumor_Class'])\n",
        "Tumor_Class_with_gender_male = Tumor_Class_with_gender_male['Patient_Num'].describe()\n",
        "Tumor_Class_with_gender_male"
      ],
      "execution_count": null,
      "outputs": []
    },
    {
      "cell_type": "code",
      "metadata": {
        "id": "UNmAvPqDD_9S"
      },
      "source": [
        "\n",
        "fig, ax = plt.subplots(figsize = (9 , 4))\n",
        "plt.xlabel('Number of Users')\n",
        "plt.title('Tumor Classes With Gender')\n",
        "colors = ['#ff6600', '#1976D2' , '#7B1FA2','#1D8348', '#C0CA33','#1f77b4', '#d62728', 'lightcoral','#7f7f7f']\n",
        "z = means.plot.bar(ax=ax, capsize=6, rot=360 ,legend='upper', color=[  '#1976D2','#ff6600'])\n",
        "ax.set_facecolor('#ffffff')\n",
        "ax.xaxis.label.set_color('#000000')\n",
        "ax.yaxis.label.set_color('#000000')\n",
        "ax.tick_params(axis='x', colors='#000000')\n",
        "ax.tick_params(axis='y', colors='#000000')\n",
        "ax.spines['left'].set_color('#000000')        # setting up Y-axis tick color to red\n",
        "ax.spines['bottom'].set_color('#000000')\n",
        "ax.tick_params(axis='y', pad=0)\n",
        "ax.legend()\n",
        "plt.legend(loc='upper right')\n",
        "plt.xlabel(\"Classes\", labelpad=10)\n",
        "plt.ylabel(\"Count\", labelpad=10)\n",
        "plt.show()"
      ],
      "execution_count": null,
      "outputs": []
    },
    {
      "cell_type": "code",
      "metadata": {
        "colab": {
          "base_uri": "https://localhost:8080/",
          "height": 204
        },
        "id": "FPF1AfmtD_ie",
        "outputId": "1c6560e0-d83d-4072-e32f-dc4559d587c1"
      },
      "source": [
        "Stage =  patient_info [patient_info['Tumor_label'] != 0 ]\n",
        "Tumor_Class_with_gender_male= Stage [Stage['Gender']== \"Male\"]\n",
        "Tumor_Class_with_gender_male = Tumor_Class_with_gender_male.groupby(['Stage'])\n",
        "Tumor_Class_with_gender_male = Tumor_Class_with_gender_male['Patient_Num'].describe()\n",
        "Tumor_Class_with_gender_male"
      ],
      "execution_count": null,
      "outputs": [
        {
          "output_type": "execute_result",
          "data": {
            "text/html": [
              "<div>\n",
              "<style scoped>\n",
              "    .dataframe tbody tr th:only-of-type {\n",
              "        vertical-align: middle;\n",
              "    }\n",
              "\n",
              "    .dataframe tbody tr th {\n",
              "        vertical-align: top;\n",
              "    }\n",
              "\n",
              "    .dataframe thead th {\n",
              "        text-align: right;\n",
              "    }\n",
              "</style>\n",
              "<table border=\"1\" class=\"dataframe\">\n",
              "  <thead>\n",
              "    <tr style=\"text-align: right;\">\n",
              "      <th></th>\n",
              "      <th>count</th>\n",
              "      <th>mean</th>\n",
              "      <th>std</th>\n",
              "      <th>min</th>\n",
              "      <th>25%</th>\n",
              "      <th>50%</th>\n",
              "      <th>75%</th>\n",
              "      <th>max</th>\n",
              "    </tr>\n",
              "    <tr>\n",
              "      <th>Stage</th>\n",
              "      <th></th>\n",
              "      <th></th>\n",
              "      <th></th>\n",
              "      <th></th>\n",
              "      <th></th>\n",
              "      <th></th>\n",
              "      <th></th>\n",
              "      <th></th>\n",
              "    </tr>\n",
              "  </thead>\n",
              "  <tbody>\n",
              "    <tr>\n",
              "      <th>I</th>\n",
              "      <td>34.0</td>\n",
              "      <td>26.705882</td>\n",
              "      <td>17.823256</td>\n",
              "      <td>1.0</td>\n",
              "      <td>10.25</td>\n",
              "      <td>24.0</td>\n",
              "      <td>41.75</td>\n",
              "      <td>59.0</td>\n",
              "    </tr>\n",
              "    <tr>\n",
              "      <th>II</th>\n",
              "      <td>1.0</td>\n",
              "      <td>60.000000</td>\n",
              "      <td>NaN</td>\n",
              "      <td>60.0</td>\n",
              "      <td>60.00</td>\n",
              "      <td>60.0</td>\n",
              "      <td>60.00</td>\n",
              "      <td>60.0</td>\n",
              "    </tr>\n",
              "    <tr>\n",
              "      <th>III</th>\n",
              "      <td>2.0</td>\n",
              "      <td>45.500000</td>\n",
              "      <td>0.707107</td>\n",
              "      <td>45.0</td>\n",
              "      <td>45.25</td>\n",
              "      <td>45.5</td>\n",
              "      <td>45.75</td>\n",
              "      <td>46.0</td>\n",
              "    </tr>\n",
              "    <tr>\n",
              "      <th>IIII</th>\n",
              "      <td>1.0</td>\n",
              "      <td>58.000000</td>\n",
              "      <td>NaN</td>\n",
              "      <td>58.0</td>\n",
              "      <td>58.00</td>\n",
              "      <td>58.0</td>\n",
              "      <td>58.00</td>\n",
              "      <td>58.0</td>\n",
              "    </tr>\n",
              "  </tbody>\n",
              "</table>\n",
              "</div>"
            ],
            "text/plain": [
              "       count       mean        std   min    25%   50%    75%   max\n",
              "Stage                                                             \n",
              "I       34.0  26.705882  17.823256   1.0  10.25  24.0  41.75  59.0\n",
              "II       1.0  60.000000        NaN  60.0  60.00  60.0  60.00  60.0\n",
              "III      2.0  45.500000   0.707107  45.0  45.25  45.5  45.75  46.0\n",
              "IIII     1.0  58.000000        NaN  58.0  58.00  58.0  58.00  58.0"
            ]
          },
          "metadata": {
            "tags": []
          },
          "execution_count": 53
        }
      ]
    },
    {
      "cell_type": "code",
      "metadata": {
        "colab": {
          "base_uri": "https://localhost:8080/",
          "height": 142
        },
        "id": "wcMDkIqjE1NX",
        "outputId": "a28f1979-e416-4725-a020-dc5e4d58bc1e"
      },
      "source": [
        "Tumor_Class_with_gender_female= Stage [Stage['Gender']== \"Female\"]\n",
        "Tumor_Class_with_gender_female = Tumor_Class_with_gender_female.groupby(['Stage'])\n",
        "Tumor_Class_with_gender_female = Tumor_Class_with_gender_female['Patient_Num'].describe()\n",
        "Tumor_Class_with_gender_female"
      ],
      "execution_count": null,
      "outputs": [
        {
          "output_type": "execute_result",
          "data": {
            "text/html": [
              "<div>\n",
              "<style scoped>\n",
              "    .dataframe tbody tr th:only-of-type {\n",
              "        vertical-align: middle;\n",
              "    }\n",
              "\n",
              "    .dataframe tbody tr th {\n",
              "        vertical-align: top;\n",
              "    }\n",
              "\n",
              "    .dataframe thead th {\n",
              "        text-align: right;\n",
              "    }\n",
              "</style>\n",
              "<table border=\"1\" class=\"dataframe\">\n",
              "  <thead>\n",
              "    <tr style=\"text-align: right;\">\n",
              "      <th></th>\n",
              "      <th>count</th>\n",
              "      <th>mean</th>\n",
              "      <th>std</th>\n",
              "      <th>min</th>\n",
              "      <th>25%</th>\n",
              "      <th>50%</th>\n",
              "      <th>75%</th>\n",
              "      <th>max</th>\n",
              "    </tr>\n",
              "    <tr>\n",
              "      <th>Stage</th>\n",
              "      <th></th>\n",
              "      <th></th>\n",
              "      <th></th>\n",
              "      <th></th>\n",
              "      <th></th>\n",
              "      <th></th>\n",
              "      <th></th>\n",
              "      <th></th>\n",
              "    </tr>\n",
              "  </thead>\n",
              "  <tbody>\n",
              "    <tr>\n",
              "      <th>I</th>\n",
              "      <td>21.0</td>\n",
              "      <td>31.714286</td>\n",
              "      <td>15.235297</td>\n",
              "      <td>7.0</td>\n",
              "      <td>21.0</td>\n",
              "      <td>31.0</td>\n",
              "      <td>37.0</td>\n",
              "      <td>57.0</td>\n",
              "    </tr>\n",
              "    <tr>\n",
              "      <th>II</th>\n",
              "      <td>1.0</td>\n",
              "      <td>47.000000</td>\n",
              "      <td>NaN</td>\n",
              "      <td>47.0</td>\n",
              "      <td>47.0</td>\n",
              "      <td>47.0</td>\n",
              "      <td>47.0</td>\n",
              "      <td>47.0</td>\n",
              "    </tr>\n",
              "  </tbody>\n",
              "</table>\n",
              "</div>"
            ],
            "text/plain": [
              "       count       mean        std   min   25%   50%   75%   max\n",
              "Stage                                                           \n",
              "I       21.0  31.714286  15.235297   7.0  21.0  31.0  37.0  57.0\n",
              "II       1.0  47.000000        NaN  47.0  47.0  47.0  47.0  47.0"
            ]
          },
          "metadata": {
            "tags": []
          },
          "execution_count": 54
        }
      ]
    },
    {
      "cell_type": "code",
      "metadata": {
        "colab": {
          "base_uri": "https://localhost:8080/",
          "height": 204
        },
        "id": "DAI0KeAQE_Ch",
        "outputId": "8b4b0a60-1279-4285-c89c-4cecf89f62b9"
      },
      "source": [
        "means = pd.DataFrame()\n",
        "means['Male']= Tumor_Class_with_gender_male['count']\n",
        "means['Female'] = [21.0 , 1.0 , 0 , 0 ]\n",
        "\n",
        "means['Tumor_Class']=Tumor_Class_with_gender_male.index\n",
        "means = means.set_index('Tumor_Class')\n",
        "display(means)\n"
      ],
      "execution_count": null,
      "outputs": [
        {
          "output_type": "display_data",
          "data": {
            "text/html": [
              "<div>\n",
              "<style scoped>\n",
              "    .dataframe tbody tr th:only-of-type {\n",
              "        vertical-align: middle;\n",
              "    }\n",
              "\n",
              "    .dataframe tbody tr th {\n",
              "        vertical-align: top;\n",
              "    }\n",
              "\n",
              "    .dataframe thead th {\n",
              "        text-align: right;\n",
              "    }\n",
              "</style>\n",
              "<table border=\"1\" class=\"dataframe\">\n",
              "  <thead>\n",
              "    <tr style=\"text-align: right;\">\n",
              "      <th></th>\n",
              "      <th>Male</th>\n",
              "      <th>Female</th>\n",
              "    </tr>\n",
              "    <tr>\n",
              "      <th>Tumor_Class</th>\n",
              "      <th></th>\n",
              "      <th></th>\n",
              "    </tr>\n",
              "  </thead>\n",
              "  <tbody>\n",
              "    <tr>\n",
              "      <th>I</th>\n",
              "      <td>34.0</td>\n",
              "      <td>21.0</td>\n",
              "    </tr>\n",
              "    <tr>\n",
              "      <th>II</th>\n",
              "      <td>1.0</td>\n",
              "      <td>1.0</td>\n",
              "    </tr>\n",
              "    <tr>\n",
              "      <th>III</th>\n",
              "      <td>2.0</td>\n",
              "      <td>0.0</td>\n",
              "    </tr>\n",
              "    <tr>\n",
              "      <th>IIII</th>\n",
              "      <td>1.0</td>\n",
              "      <td>0.0</td>\n",
              "    </tr>\n",
              "  </tbody>\n",
              "</table>\n",
              "</div>"
            ],
            "text/plain": [
              "             Male  Female\n",
              "Tumor_Class              \n",
              "I            34.0    21.0\n",
              "II            1.0     1.0\n",
              "III           2.0     0.0\n",
              "IIII          1.0     0.0"
            ]
          },
          "metadata": {
            "tags": []
          }
        }
      ]
    },
    {
      "cell_type": "code",
      "metadata": {
        "colab": {
          "base_uri": "https://localhost:8080/",
          "height": 528
        },
        "id": "olcQbuVdD-bX",
        "outputId": "2cf483df-c246-4d84-c2c0-dd5cdbc2432e"
      },
      "source": [
        "\n",
        "fig, ax = plt.subplots(figsize = (9 , 4))\n",
        "plt.xlabel('Number of Users')\n",
        "plt.title('Tumor Classes With Gender')\n",
        "colors = ['#ff6600', '#1976D2' , '#7B1FA2','#1D8348', '#C0CA33','#1f77b4', '#d62728', 'lightcoral','#7f7f7f']\n",
        "\n",
        "z = means.plot.bar(ax=ax, capsize=6, rot=360 ,legend='upper', color=[ '#ff6600', '#1976D2'])\n",
        "ax.set_facecolor('#ffffff')\n",
        "ax.xaxis.label.set_color('#000000')\n",
        "ax.yaxis.label.set_color('#000000')\n",
        "ax.tick_params(axis='x', colors='#000000')\n",
        "ax.tick_params(axis='y', colors='#000000')\n",
        "ax.spines['left'].set_color('#000000')        # setting up Y-axis tick color to red\n",
        "ax.spines['bottom'].set_color('#000000')\n",
        "\n",
        "ax.tick_params(axis='y', pad=0)\n",
        "\n",
        "ax.legend()\n",
        "\n",
        "plt.legend(loc='upper')\n",
        "plt.xlabel(\"Classes\", labelpad=10)\n",
        "plt.ylabel(\"Count\", labelpad=10)\n",
        "plt.show()"
      ],
      "execution_count": null,
      "outputs": [
        {
          "output_type": "stream",
          "text": [
            "/usr/local/lib/python3.7/dist-packages/ipykernel_launcher.py:20: MatplotlibDeprecationWarning: Unrecognized location 'upper'. Falling back on 'best'; valid locations are\n",
            "\tbest\n",
            "\tupper right\n",
            "\tupper left\n",
            "\tlower left\n",
            "\tlower right\n",
            "\tright\n",
            "\tcenter left\n",
            "\tcenter right\n",
            "\tlower center\n",
            "\tupper center\n",
            "\tcenter\n",
            "This will raise an exception in 3.3.\n"
          ],
          "name": "stderr"
        },
        {
          "output_type": "display_data",
          "data": {
            "image/png": "[encoded data removed]",
            "text/plain": [
              "<Figure size 648x288 with 1 Axes>"
            ]
          },
          "metadata": {
            "tags": [],
            "needs_background": "light"
          }
        }
      ]
    },
    {
      "cell_type": "code",
      "metadata": {
        "colab": {
          "base_uri": "https://localhost:8080/",
          "height": 676
        },
        "id": "wkr76QyPmXj6",
        "outputId": "ea991866-29c7-49bb-edf7-8a915cdad89d"
      },
      "source": [
        "Stage_flg = patient_info[patient_info['Stage']!='Null']\n",
        "Stage_flg = Stage_flg['Stage'].value_counts()\n",
        "display(Stage_flg)\n",
        "fig = plt.figure(figsize =(15, 10))\n",
        "colors = [  '#1976D2' ,'#1D8348' ,'#ff6600', '#C0CA33',]\n",
        "labels = [r'I', r'II', r'III' ,  r'IIII']\n",
        "plt.pie([55,2 , 2, 1], autopct='%1.1f%%',colors=colors ,\n",
        "        shadow=True, startangle=90,\n",
        "        wedgeprops= {\"edgecolor\":\"black\",\n",
        "                     'linewidth': 0.6,\n",
        "                     'antialiased': True} , explode = (0.1, 0.3,0.3,0.3) )\n",
        "\n",
        "plt.legend( labels, loc=\"best\")\n",
        "plt.axis('equal')\n",
        "plt.title('Stage')\n",
        "plt.show()\n",
        "del Stage_flg"
      ],
      "execution_count": null,
      "outputs": [
        {
          "output_type": "display_data",
          "data": {
            "text/plain": [
              "I       55\n",
              "III      2\n",
              "II       2\n",
              "IIII     1\n",
              "Name: Stage, dtype: int64"
            ]
          },
          "metadata": {
            "tags": []
          }
        },
        {
          "output_type": "display_data",
          "data": {
            "image/png": "[encoded data removed]",
            "text/plain": [
              "<Figure size 1080x720 with 1 Axes>"
            ]
          },
          "metadata": {
            "tags": []
          }
        }
      ]
    }
  ]
}